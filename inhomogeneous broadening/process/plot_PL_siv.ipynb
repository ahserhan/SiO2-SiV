{
 "cells": [
  {
   "cell_type": "code",
   "execution_count": 21,
   "metadata": {},
   "outputs": [
    {
     "data": {
      "image/png": "[encoded data removed]",
      "text/plain": [
       "<Figure size 85.0394x56.6929 with 1 Axes>"
      ]
     },
     "metadata": {
      "needs_background": "light"
     },
     "output_type": "display_data"
    }
   ],
   "source": [
    "import pandas as pd\n",
    "import matplotlib.pyplot as plt\n",
    "import numpy as np\n",
    "from matplotlib.colors import LogNorm\n",
    "\n",
    "def findarg(data, value):\n",
    "    arg = 0\n",
    "    for wl in data:\n",
    "        if wl<value:\n",
    "            arg = arg + 1\n",
    "        else:\n",
    "            return arg\n",
    "        \n",
    "    return arg\n",
    "\n",
    "\n",
    "\n",
    "data = pd.read_csv('97-m9-9-siv-60s.csv')\n",
    "regionMin = 735\n",
    "regionMax = 738.5\n",
    "\n",
    "argMin = findarg(data['W'], regionMin)\n",
    "argMax = findarg(data['W'], regionMax)\n",
    "\n",
    "plt.rcParams.update({'font.size': 6})\n",
    "cm = 1/2.54 \n",
    "fig = plt.figure(figsize=(3*cm, 2*cm))\n",
    "# plt.grid()\n",
    "\n",
    "# plt.xlabel(r'Wavelength (nm)')\n",
    "# plt.ylabel(r'Intensity (a.u.)')\n",
    "\n",
    "plt.yticks([], (''))\n",
    "\n",
    "plt.plot(data['W'][argMin:argMax],data['I'][argMin:argMax]/6000, 'C2',linewidth = 0.5)\n",
    "\n",
    "\n",
    "plt.tight_layout()\n",
    "\n",
    "fig.savefig('sio siv m9-9.eps', format= 'eps',transparent=True)\n"
   ]
  },
  {
   "cell_type": "code",
   "execution_count": 22,
   "metadata": {},
   "outputs": [
    {
     "data": {
      "image/png": "[encoded data removed]",
      "text/plain": [
       "<Figure size 85.0394x56.6929 with 1 Axes>"
      ]
     },
     "metadata": {
      "needs_background": "light"
     },
     "output_type": "display_data"
    }
   ],
   "source": [
    "data = pd.read_csv('97-m3-3-siv-60s.csv')\n",
    "regionMin = 735\n",
    "regionMax = 738.5\n",
    "\n",
    "argMin = findarg(data['W'], regionMin)\n",
    "argMax = findarg(data['W'], regionMax)\n",
    "\n",
    "plt.rcParams.update({'font.size': 6})\n",
    "cm = 1/2.54 \n",
    "fig = plt.figure(figsize=(3*cm, 2*cm))\n",
    "# plt.grid()\n",
    "\n",
    "# plt.xlabel(r'Wavelength (nm)')\n",
    "# plt.ylabel(r'Intensity (a.u.)')\n",
    "\n",
    "plt.yticks([], (''))\n",
    "\n",
    "plt.plot(data['W'][argMin:argMax],data['I'][argMin:argMax]/6000, 'C2',linewidth = 0.5)\n",
    "\n",
    "\n",
    "plt.tight_layout()\n",
    "\n",
    "fig.savefig('sio siv m3-3.eps', format= 'eps',transparent=True)"
   ]
  },
  {
   "cell_type": "code",
   "execution_count": 23,
   "metadata": {},
   "outputs": [
    {
     "data": {
      "image/png": "[encoded data removed]",
      "text/plain": [
       "<Figure size 85.0394x56.6929 with 1 Axes>"
      ]
     },
     "metadata": {
      "needs_background": "light"
     },
     "output_type": "display_data"
    }
   ],
   "source": [
    "data = pd.read_csv('97-m3-15-siv-60s.csv')\n",
    "regionMin = 735\n",
    "regionMax = 738.5\n",
    "\n",
    "argMin = findarg(data['W'], regionMin)\n",
    "argMax = findarg(data['W'], regionMax)\n",
    "\n",
    "plt.rcParams.update({'font.size': 6})\n",
    "cm = 1/2.54 \n",
    "fig = plt.figure(figsize=(3*cm, 2*cm))\n",
    "# plt.grid()\n",
    "\n",
    "# plt.xlabel(r'Wavelength (nm)')\n",
    "# plt.ylabel(r'Intensity (a.u.)')\n",
    "\n",
    "plt.yticks([], (''))\n",
    "\n",
    "plt.plot(data['W'][argMin:argMax],data['I'][argMin:argMax]/6000, 'C2',linewidth = 0.5)\n",
    "\n",
    "\n",
    "plt.tight_layout()\n",
    "\n",
    "fig.savefig('sio siv m3-15.eps', format= 'eps',transparent=True)"
   ]
  },
  {
   "cell_type": "code",
   "execution_count": 24,
   "metadata": {},
   "outputs": [
    {
     "data": {
      "image/png": "[encoded data removed]",
      "text/plain": [
       "<Figure size 85.0394x56.6929 with 1 Axes>"
      ]
     },
     "metadata": {
      "needs_background": "light"
     },
     "output_type": "display_data"
    }
   ],
   "source": [
    "data = pd.read_csv('97-m3-18-siv-60s.csv')\n",
    "regionMin = 735\n",
    "regionMax = 738.5\n",
    "\n",
    "argMin = findarg(data['W'], regionMin)\n",
    "argMax = findarg(data['W'], regionMax)\n",
    "\n",
    "plt.rcParams.update({'font.size': 6})\n",
    "cm = 1/2.54 \n",
    "fig = plt.figure(figsize=(3*cm, 2*cm))\n",
    "# plt.grid()\n",
    "\n",
    "# plt.xlabel(r'Wavelength (nm)')\n",
    "# plt.ylabel(r'Intensity (a.u.)')\n",
    "\n",
    "plt.yticks([], (''))\n",
    "\n",
    "plt.plot(data['W'][argMin:argMax],data['I'][argMin:argMax]/6000, 'C2',linewidth = 0.5)\n",
    "\n",
    "\n",
    "plt.tight_layout()\n",
    "\n",
    "fig.savefig('sio siv m3-18.eps', format= 'eps',transparent=True)"
   ]
  },
  {
   "cell_type": "code",
   "execution_count": 25,
   "metadata": {},
   "outputs": [
    {
     "data": {
      "image/png": "[encoded data removed]",
      "text/plain": [
       "<Figure size 85.0394x56.6929 with 1 Axes>"
      ]
     },
     "metadata": {
      "needs_background": "light"
     },
     "output_type": "display_data"
    }
   ],
   "source": [
    "data = pd.read_csv('98-m3-3-siv-60s.csv')\n",
    "regionMin = 735\n",
    "regionMax = 738.5\n",
    "\n",
    "argMin = findarg(data['W'], regionMin)\n",
    "argMax = findarg(data['W'], regionMax)\n",
    "\n",
    "plt.rcParams.update({'font.size': 6})\n",
    "cm = 1/2.54 \n",
    "fig = plt.figure(figsize=(3*cm, 2*cm))\n",
    "# plt.grid()\n",
    "\n",
    "# plt.xlabel(r'Wavelength (nm)')\n",
    "# plt.ylabel(r'Intensity (a.u.)')\n",
    "\n",
    "plt.yticks([], (''))\n",
    "\n",
    "plt.plot(data['W'][argMin:argMax],data['I'][argMin:argMax]/6000, 'C2',linewidth = 0.5)\n",
    "\n",
    "\n",
    "plt.tight_layout()\n",
    "\n",
    "fig.savefig('sin siv m3-3.eps', format= 'eps',transparent=True)"
   ]
  },
  {
   "cell_type": "code",
   "execution_count": 26,
   "metadata": {},
   "outputs": [
    {
     "data": {
      "image/png": "[encoded data removed]",
      "text/plain": [
       "<Figure size 85.0394x56.6929 with 1 Axes>"
      ]
     },
     "metadata": {
      "needs_background": "light"
     },
     "output_type": "display_data"
    }
   ],
   "source": [
    "data = pd.read_csv('98-m3-12-siv-60s.csv')\n",
    "regionMin = 735\n",
    "regionMax = 738.5\n",
    "\n",
    "argMin = findarg(data['W'], regionMin)\n",
    "argMax = findarg(data['W'], regionMax)\n",
    "\n",
    "plt.rcParams.update({'font.size': 6})\n",
    "cm = 1/2.54 \n",
    "fig = plt.figure(figsize=(3*cm, 2*cm))\n",
    "# plt.grid()\n",
    "\n",
    "# plt.xlabel(r'Wavelength (nm)')\n",
    "# plt.ylabel(r'Intensity (a.u.)')\n",
    "\n",
    "plt.yticks([], (''))\n",
    "\n",
    "plt.plot(data['W'][argMin:argMax],data['I'][argMin:argMax]/6000, 'C2',linewidth = 0.5)\n",
    "\n",
    "\n",
    "plt.tight_layout()\n",
    "\n",
    "fig.savefig('sin siv m3-12.eps', format= 'eps',transparent=True)"
   ]
  },
  {
   "cell_type": "code",
   "execution_count": 27,
   "metadata": {},
   "outputs": [
    {
     "data": {
      "image/png": "[encoded data removed]",
      "text/plain": [
       "<Figure size 85.0394x56.6929 with 1 Axes>"
      ]
     },
     "metadata": {
      "needs_background": "light"
     },
     "output_type": "display_data"
    }
   ],
   "source": [
    "data = pd.read_csv('98-m3-18-siv-60s.csv')\n",
    "regionMin = 735\n",
    "regionMax = 738.5\n",
    "\n",
    "argMin = findarg(data['W'], regionMin)\n",
    "argMax = findarg(data['W'], regionMax)\n",
    "\n",
    "plt.rcParams.update({'font.size': 6})\n",
    "cm = 1/2.54 \n",
    "fig = plt.figure(figsize=(3*cm, 2*cm))\n",
    "# plt.grid()\n",
    "\n",
    "# plt.xlabel(r'Wavelength (nm)')\n",
    "# plt.ylabel(r'Intensity (a.u.)')\n",
    "\n",
    "plt.yticks([], (''))\n",
    "\n",
    "plt.plot(data['W'][argMin:argMax],data['I'][argMin:argMax]/6000, 'C2',linewidth = 0.5)\n",
    "\n",
    "\n",
    "plt.tight_layout()\n",
    "\n",
    "fig.savefig('sin siv m3-18.eps', format= 'eps',transparent=True)"
   ]
  },
  {
   "cell_type": "code",
   "execution_count": null,
   "metadata": {},
   "outputs": [],
   "source": []
  }
 ],
 "metadata": {
  "kernelspec": {
   "display_name": "base",
   "language": "python",
   "name": "python3"
  },
  "language_info": {
   "codemirror_mode": {
    "name": "ipython",
    "version": 3
   },
   "file_extension": ".py",
   "mimetype": "text/x-python",
   "name": "python",
   "nbconvert_exporter": "python",
   "pygments_lexer": "ipython3",
   "version": "3.9.7"
  },
  "orig_nbformat": 4
 },
 "nbformat": 4,
 "nbformat_minor": 2
}
