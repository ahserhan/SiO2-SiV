{
 "cells": [
  {
   "cell_type": "code",
   "execution_count": 13,
   "metadata": {},
   "outputs": [],
   "source": [
    "import pandas as pd\n",
    "import matplotlib.pyplot as plt\n",
    "import numpy as np\n",
    "from matplotlib.colors import LogNorm\n",
    "\n",
    "def findarg(data, value):\n",
    "    arg = 0\n",
    "    for wl in data:\n",
    "        if wl<value:\n",
    "            arg = arg + 1\n",
    "        else:\n",
    "            return arg\n",
    "        \n",
    "    return arg\n",
    "\n",
    "siv97 = []\n",
    "for i in [3,6,9,12,15,18]:\n",
    "    siv97.append(pd.read_csv('97-m3-'+ str(i) + '-siv-60s' + '.csv'))\n",
    "for i in [3,6,9]:\n",
    "    siv97.append(pd.read_csv('97-m9-'+ str(i) + '-siv-60s' + '.csv'))\n",
    "\n",
    "siv98 = []\n",
    "for i in [3,6,9,12,15,18]:\n",
    "    siv98.append(pd.read_csv('98-m3-'+ str(i) + '-siv-60s' + '.csv'))\n",
    "\n",
    "nv98 = []\n",
    "for i in [3,6,9,12,15,18]:\n",
    "    nv98.append(pd.read_csv('98-m3-'+ str(i) + '-nv-60s' + '.csv'))"
   ]
  },
  {
   "cell_type": "code",
   "execution_count": 14,
   "metadata": {},
   "outputs": [
    {
     "name": "stderr",
     "output_type": "stream",
     "text": [
      "The PostScript backend does not support transparency; partially transparent artists will be rendered opaque.\n",
      "The PostScript backend does not support transparency; partially transparent artists will be rendered opaque.\n"
     ]
    },
    {
     "data": {
      "image/png": "[encoded data removed]",
      "text/plain": [
       "<Figure size 226.772x113.386 with 1 Axes>"
      ]
     },
     "metadata": {
      "needs_background": "light"
     },
     "output_type": "display_data"
    }
   ],
   "source": [
    "stdSiv97 = []\n",
    "for siv in siv97:\n",
    "    stdSiv97.append(np.std(siv['I'][166:1181]/(siv['I'][np.argmax(siv['I'])]-siv['I'][166])))\n",
    "\n",
    "plt.rcParams.update({'font.size': 6})\n",
    "cm = 1/2.54 \n",
    "fig = plt.figure(figsize=(8*cm, 4*cm))\n",
    "plt.grid()\n",
    "# plt.xlabel('Parameter')\n",
    "plt.xlabel('Gallium ion Dose')\n",
    "plt.ylabel('Stdev (a.u.)')\n",
    "plt.ylim(0,0.20)\n",
    "# plt.title('SiO$_2$ Sample')\n",
    "plt.xticks([0,3,6], ('$1.3*10^{16}$','$9.7*10^{14}$','$1.2*10^{14}$'))\n",
    "\n",
    "plt.plot(stdSiv97, 'oC2', markersize = '2', label = 'SiV$^-$')\n",
    "plt.legend()\n",
    "\n",
    "plt.tight_layout()\n",
    "fig.savefig('sio std.eps', format= 'eps',transparent=True)"
   ]
  },
  {
   "cell_type": "code",
   "execution_count": 15,
   "metadata": {},
   "outputs": [
    {
     "name": "stderr",
     "output_type": "stream",
     "text": [
      "The PostScript backend does not support transparency; partially transparent artists will be rendered opaque.\n",
      "The PostScript backend does not support transparency; partially transparent artists will be rendered opaque.\n"
     ]
    },
    {
     "data": {
      "image/png": "[encoded data removed]",
      "text/plain": [
       "<Figure size 226.772x113.386 with 1 Axes>"
      ]
     },
     "metadata": {
      "needs_background": "light"
     },
     "output_type": "display_data"
    }
   ],
   "source": [
    "stdNv98 = []\n",
    "for nv in nv98:\n",
    "    stdNv98.append(np.std(nv['I'][220:1124]/(nv['I'][np.argmax(nv['I'])]-nv['I'][220])))\n",
    "stdSiv98 = []\n",
    "for siv in siv98:\n",
    "    stdSiv98.append(np.std(siv['I'][166:1181]/(siv['I'][np.argmax(siv['I'])]-siv['I'][166])))\n",
    "\n",
    "plt.rcParams.update({'font.size': 6})\n",
    "cm = 1/2.54 \n",
    "fig = plt.figure(figsize=(8*cm, 4*cm))\n",
    "\n",
    "plt.grid()\n",
    "# plt.xlabel('Parameter')\n",
    "plt.xlabel('Gallium ion Dose')\n",
    "plt.ylabel('Stdev (a.u.)')\n",
    "plt.ylim(0,0.25)\n",
    "plt.plot(stdSiv98,'oC2', markersize = '2',label = 'SiV$^-$')\n",
    "plt.plot(stdNv98,'oC1', markersize = '2',label = 'NV$^-$')\n",
    "\n",
    "plt.xticks([0,2,5], ('$1.1*10^{15}$','$2.9*10^{14}$','$2.9*10^{14}$'))\n",
    "\n",
    "# plt.title('Si$_3$N$_4$ Sample')\n",
    "\n",
    "\n",
    "# plt.plot(stdSiv97, 'o', label = 'SiV-')\n",
    "plt.legend()\n",
    "\n",
    "plt.tight_layout()\n",
    "fig.savefig('sin std.eps', format= 'eps',transparent=True)"
   ]
  },
  {
   "cell_type": "code",
   "execution_count": null,
   "metadata": {},
   "outputs": [],
   "source": []
  }
 ],
 "metadata": {
  "kernelspec": {
   "display_name": "base",
   "language": "python",
   "name": "python3"
  },
  "language_info": {
   "codemirror_mode": {
    "name": "ipython",
    "version": 3
   },
   "file_extension": ".py",
   "mimetype": "text/x-python",
   "name": "python",
   "nbconvert_exporter": "python",
   "pygments_lexer": "ipython3",
   "version": "3.9.7"
  },
  "orig_nbformat": 4
 },
 "nbformat": 4,
 "nbformat_minor": 2
}
