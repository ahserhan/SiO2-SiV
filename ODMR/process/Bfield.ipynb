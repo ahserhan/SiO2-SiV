{
 "cells": [
  {
   "cell_type": "code",
   "execution_count": 66,
   "metadata": {},
   "outputs": [],
   "source": [
    "import pandas as pd\n",
    "import matplotlib.pyplot as plt\n",
    "import numpy as np\n",
    "from matplotlib.colors import LogNorm\n",
    "from lmfit.models import QuadraticModel, LorentzianModel\n",
    "import math\n",
    "import uncertainties as unc\n",
    "\n",
    "\n",
    "datain = pd.read_csv('in.csv')\n",
    "dataout1 = pd.read_csv('out1.csv')\n",
    "dataout2 = pd.read_csv('out2.csv')\n",
    "dataout3 = pd.read_csv('out3.csv')\n"
   ]
  },
  {
   "cell_type": "code",
   "execution_count": 67,
   "metadata": {},
   "outputs": [],
   "source": [
    "# Index = list(range(0,145))\n",
    "\n",
    "model1 = QuadraticModel() - (LorentzianModel(prefix='p1_') + LorentzianModel(prefix='p2_') + LorentzianModel(prefix='p3_') + LorentzianModel(prefix='p4_')+\\\n",
    "                             LorentzianModel(prefix='p5_') + LorentzianModel(prefix='p6_') + LorentzianModel(prefix='p7_') + LorentzianModel(prefix='p8_'))\n",
    "\n",
    "\n",
    "model = model1\n",
    "params = model.make_params()\n",
    "\n",
    "params['p1_center'].set(value=2.7678e9, vary=True)\n",
    "params['p1_amplitude'].set(value=250000.636, min=0, vary=True)\n",
    "params['p1_sigma'].set(value=5118679.32, vary=True)\n",
    "\n",
    "params['p2_center'].set(value=2.7889e9, vary=True)\n",
    "params['p2_amplitude'].set(value= 319260.128, min = 0,vary=True)\n",
    "params['p2_sigma'].set(value=4200593.55, vary=True)\n",
    "\n",
    "params['p3_center'].set(value=2.8479e9, vary=True)\n",
    "params['p3_amplitude'].set(value=117247.147, min=0, vary=True)\n",
    "params['p3_sigma'].set(value=5387519.00, vary=True)\n",
    "\n",
    "params['p4_center'].set(value=2.8671e9, vary=True)\n",
    "params['p4_amplitude'].set(value= 225944.777, min = 0,vary=True)\n",
    "params['p4_sigma'].set(value=4308865.42, vary=True)\n",
    "\n",
    "params['p5_center'].set(value=2.8874e+09, vary=True)\n",
    "params['p5_amplitude'].set(value=170372.448, min=0, vary=True)\n",
    "params['p5_sigma'].set(value=3719244.90, vary=True)\n",
    "\n",
    "params['p6_center'].set(value=2.9048e+09, vary=True)\n",
    "params['p6_amplitude'].set(value= 63173.5876, min = 0,vary=True)\n",
    "params['p6_sigma'].set(value=4625796.64, vary=True)\n",
    "\n",
    "params['p7_center'].set(value=2.9571e+09, vary=True)\n",
    "params['p7_amplitude'].set(value=209196.905, min=0, vary=True)\n",
    "params['p7_sigma'].set(value=4766217.27, vary=True)\n",
    "\n",
    "params['p8_center'].set(value=2.9729e+09, vary=True)\n",
    "params['p8_amplitude'].set(value= 30000.7193, min = 0,vary=True)\n",
    "params['p8_sigma'].set(value= 1578210.22, vary=True)\n",
    "\n",
    "params['a'].set(value=0, vary=False)\n",
    "params['b'].set(value=0, vary=False)\n",
    "params['c'].set(value=1, vary=False)\n",
    "\n",
    "resultin = model.fit(datain['ydata'], params, x=datain['xdata'])\n",
    "resultout1 = model.fit(dataout1['ydata'], params, x=dataout1['xdata'])\n",
    "resultout2 = model.fit(dataout2['ydata'], params, x=dataout2['xdata'])\n",
    "resultout3 = model.fit(dataout3['ydata'], params, x=dataout3['xdata'])\n"
   ]
  },
  {
   "cell_type": "markdown",
   "metadata": {},
   "source": [
    "# Calculate the zeeman splitting"
   ]
  },
  {
   "cell_type": "code",
   "execution_count": 68,
   "metadata": {},
   "outputs": [],
   "source": [
    "splitin = []\n",
    "splitout1 = []\n",
    "splitout2 = []\n",
    "splitout3 = []\n",
    "#in MHz\n",
    "# for i in [1,3,4,2]:\n",
    "#     splitin.append((resultin.params.eval('p'+str(8-i+1)+'_center')-resultin.params.eval('p'+str(i)+'_center'))/1e6)\n",
    "#     splitout1.append((resultout1.params.eval('p'+str(8-i+1)+'_center')-resultout1.params.eval('p'+str(i)+'_center'))/1e6)\n",
    "#     splitout2.append((resultout2.params.eval('p'+str(8-i+1)+'_center')-resultout2.params.eval('p'+str(i)+'_center'))/1e6)\n",
    "#     splitout3.append((resultout3.params.eval('p'+str(8-i+1)+'_center')-resultout3.params.eval('p'+str(i)+'_center'))/1e6)\n",
    "\n",
    "for i in [1,3,4,2]:\n",
    "    splitin.append((resultin.params.eval('p'+str(8-i+1)+'_center')-resultin.params.eval('p'+str(i)+'_center'))/1e6)\n",
    "    splitout1.append((resultout1.params.eval('p'+str(8-i+1)+'_center')-resultout1.params.eval('p'+str(i)+'_center'))/1e6)\n",
    "    splitout2.append((resultout2.params.eval('p'+str(8-i+1)+'_center')-resultout2.params.eval('p'+str(i)+'_center'))/1e6)\n",
    "    splitout3.append((resultout3.params.eval('p'+str(8-i+1)+'_center')-resultout3.params.eval('p'+str(i)+'_center'))/1e6)"
   ]
  },
  {
   "cell_type": "code",
   "execution_count": 73,
   "metadata": {},
   "outputs": [
    {
     "name": "stdout",
     "output_type": "stream",
     "text": [
      "B field from location 1 is  [23.04526102  0.11838879  5.68428626]  G The magnitude is  23.736241941511928\n",
      "B field from location 2 is  [22.96260162  0.22427245  5.75776129]  G The magnitude is  23.6745261039967\n",
      "B field from location 3 is  [22.83774545  0.21394035  5.89479215]  G The magnitude is  23.58722031712532\n",
      "B field from location 4 is  [22.90055492  0.05193581  5.65694732]  G The magnitude is  23.588962803357017\n"
     ]
    }
   ],
   "source": [
    "gyro = 2.8 # MHz/G\n",
    "Orient = np.array([[1.00,-1.0,-1.0,1.0],[1.0,-1.0,1.0,-1.0],[1.0,1.0,-1.0,-1.0]])*np.sqrt(3)/(8*gyro)\n",
    "b_in = np.dot(Orient,splitin)\n",
    "normin = np.linalg.norm(b_in)\n",
    "\n",
    "b_out1 = np.dot(Orient,splitout1)\n",
    "normout1 = np.linalg.norm(b_out1)\n",
    "\n",
    "b_out2 = np.dot(Orient,splitout2)\n",
    "normout2 = np.linalg.norm(b_out2)\n",
    "\n",
    "b_out3 = np.dot(Orient,splitout3)\n",
    "normout3 = np.linalg.norm(b_out3)\n",
    "\n",
    "print('B field from location 1 is ', b_in, ' G The magnitude is ', normin)\n",
    "print('B field from location 2 is ', b_out1, ' G The magnitude is ', normout1)\n",
    "print('B field from location 3 is ', b_out2, ' G The magnitude is ', normout2)\n",
    "print('B field from location 4 is ', b_out3, ' G The magnitude is ', normout3)"
   ]
  },
  {
   "cell_type": "code",
   "execution_count": null,
   "metadata": {},
   "outputs": [],
   "source": [
    "# m1 = np.mean(splitin)\n",
    "# s1 = np.std(splitin)\n",
    "\n",
    "# line1 = unc.ufloat(m1,s1)\n",
    "# zfs1  = unc.ufloat(np.mean(peakin),np.std(peakin))\n",
    "\n",
    "# m2 = np.mean(splitout1)\n",
    "# s2 = np.std(splitout1)\n",
    "\n",
    "# line2 = unc.ufloat(m2,s2)\n",
    "# zfs2  = unc.ufloat(np.mean(peakout1),np.std(peakout1))\n",
    "\n",
    "# m3 = np.mean(splitout2)\n",
    "# s3 = np.std(splitout2)\n",
    "\n",
    "# line3 = unc.ufloat(m3,s3)\n",
    "# zfs3  = unc.ufloat(np.mean(peakout2),np.std(peakout2))\n",
    "\n",
    "# m4 = np.mean(splitout3)\n",
    "# s4 = np.std(splitout3)\n",
    "\n",
    "# line4 = unc.ufloat(m4,s4)\n",
    "# zfs4  = unc.ufloat(np.mean(peakout3),np.std(peakout3))\n",
    "\n",
    "# print('in square linewidth is {:.2up} MHz'.format(line1/1e6))\n",
    "# print('in square zfs is {:.2up} GHz \\n'.format(zfs1/1e9))\n",
    "\n",
    "# print('10 um away linewidth is {:.2up} MHz'.format(line2/1e6))\n",
    "# print('10 um away zfs is {:.2up} GHz \\n'.format(zfs2/1e9))\n",
    "\n",
    "# print('20 um away linewidth is {:.2up} MHz'.format(line3/1e6))\n",
    "# print('20 um away zfs is {:.2up} GHz \\n'.format(zfs3/1e9))\n",
    "\n",
    "# print('30 um away linewidth is {:.2up} MHz'.format(line4/1e6))\n",
    "# print('30 um away zfs is {:.2up} GHz \\n'.format(zfs4/1e9))\n"
   ]
  },
  {
   "cell_type": "code",
   "execution_count": null,
   "metadata": {},
   "outputs": [],
   "source": []
  }
 ],
 "metadata": {
  "kernelspec": {
   "display_name": "base",
   "language": "python",
   "name": "python3"
  },
  "language_info": {
   "codemirror_mode": {
    "name": "ipython",
    "version": 3
   },
   "file_extension": ".py",
   "mimetype": "text/x-python",
   "name": "python",
   "nbconvert_exporter": "python",
   "pygments_lexer": "ipython3",
   "version": "3.9.7"
  },
  "orig_nbformat": 4
 },
 "nbformat": 4,
 "nbformat_minor": 2
}
