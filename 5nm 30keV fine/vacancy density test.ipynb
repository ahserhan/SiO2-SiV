{
 "cells": [
  {
   "cell_type": "code",
   "execution_count": 16,
   "metadata": {},
   "outputs": [],
   "source": [
    "import numpy as np \n",
    "import matplotlib.pyplot as plt \n",
    "import uncertainties as unc\n",
    "import pandas as pd\n",
    "import uncertainties.unumpy as unp"
   ]
  },
  {
   "cell_type": "code",
   "execution_count": 17,
   "metadata": {},
   "outputs": [],
   "source": [
    "SiO = pd.read_csv('SiO.csv')\n",
    "SiN = pd.read_csv('SiN.csv')\n",
    "SiOfine = pd.read_csv('SiOfine.csv')\n",
    "SiNfine = pd.read_csv('SiNfine.csv')\n",
    "# Si= pd.read_csv('Si.csv')\n",
    "# n = pd.read_csv('N.csv')"
   ]
  },
  {
   "cell_type": "code",
   "execution_count": 18,
   "metadata": {},
   "outputs": [
    {
     "data": {
      "text/plain": [
       "64.26216228576406"
      ]
     },
     "execution_count": 18,
     "metadata": {},
     "output_type": "execute_result"
    }
   ],
   "source": [
    "(integrate(np.array(SiO['DEPTH']), np.array(SiO['C'])*1e8))/(integrate(np.array(SiOfine['DEPTH']), np.array(SiOfine['Si']))+integrate(np.array(SiOfine['DEPTH']), np.array(SiOfine['O'])))"
   ]
  },
  {
   "cell_type": "code",
   "execution_count": 19,
   "metadata": {},
   "outputs": [
    {
     "data": {
      "text/plain": [
       "69.88495901451665"
      ]
     },
     "execution_count": 19,
     "metadata": {},
     "output_type": "execute_result"
    }
   ],
   "source": [
    "integrate(np.array(SiN['DEPTH']), np.array(SiN['C'])*1e8)/(integrate(np.array(SiNfine['DEPTH']), np.array(SiNfine['Si']))+integrate(np.array(SiNfine['DEPTH']), np.array(SiNfine['N'])))"
   ]
  },
  {
   "cell_type": "markdown",
   "metadata": {},
   "source": [
    "nitrogen is 140"
   ]
  },
  {
   "cell_type": "code",
   "execution_count": null,
   "metadata": {},
   "outputs": [],
   "source": []
  }
 ],
 "metadata": {
  "kernelspec": {
   "display_name": "base",
   "language": "python",
   "name": "python3"
  },
  "language_info": {
   "codemirror_mode": {
    "name": "ipython",
    "version": 3
   },
   "file_extension": ".py",
   "mimetype": "text/x-python",
   "name": "python",
   "nbconvert_exporter": "python",
   "pygments_lexer": "ipython3",
   "version": "3.9.7"
  },
  "orig_nbformat": 4,
  "vscode": {
   "interpreter": {
    "hash": "81d803375a80ef438aed46dfb61bfcb23632280389862399a519a5b5dac99448"
   }
  }
 },
 "nbformat": 4,
 "nbformat_minor": 2
}
