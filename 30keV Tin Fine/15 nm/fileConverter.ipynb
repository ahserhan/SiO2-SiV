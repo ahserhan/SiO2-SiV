{
 "cells": [
  {
   "cell_type": "code",
   "execution_count": 1,
   "metadata": {},
   "outputs": [],
   "source": [
    "import csv\n",
    "\n",
    "def convert_text_to_csv(input_file, output_file):\n",
    "    with open(input_file, 'r') as infile, open(output_file, 'w', newline='') as outfile:\n",
    "        reader = csv.reader(infile, delimiter=' ')\n",
    "        writer = csv.writer(outfile)\n",
    "\n",
    "        for row in reader:\n",
    "            # Remove preceding spaces and ignore consecutive spaces\n",
    "            cleaned_row = [item.strip() for item in row if item.strip()]\n",
    "            writer.writerow(cleaned_row)"
   ]
  },
  {
   "cell_type": "code",
   "execution_count": 2,
   "metadata": {},
   "outputs": [],
   "source": [
    "input_file_path = 'VACANCY.txt'  # Change this to the path of your input text file\n",
    "output_file_path = 'VACANCY.csv'  # Change this to the desired path for your output CSV file\n",
    "convert_text_to_csv(input_file_path, output_file_path)"
   ]
  },
  {
   "cell_type": "code",
   "execution_count": 3,
   "metadata": {},
   "outputs": [],
   "source": [
    "input_file_path = 'RANGE.txt'  # Change this to the path of your input text file\n",
    "output_file_path = 'RANGE.csv'  # Change this to the desired path for your output CSV file\n",
    "convert_text_to_csv(input_file_path, output_file_path)"
   ]
  }
 ],
 "metadata": {
  "kernelspec": {
   "display_name": "base",
   "language": "python",
   "name": "python3"
  },
  "language_info": {
   "codemirror_mode": {
    "name": "ipython",
    "version": 3
   },
   "file_extension": ".py",
   "mimetype": "text/x-python",
   "name": "python",
   "nbconvert_exporter": "python",
   "pygments_lexer": "ipython3",
   "version": "3.9.7"
  }
 },
 "nbformat": 4,
 "nbformat_minor": 2
}
