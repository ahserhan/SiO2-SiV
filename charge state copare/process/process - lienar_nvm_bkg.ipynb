{
 "cells": [
  {
   "cell_type": "code",
   "execution_count": 35,
   "metadata": {},
   "outputs": [],
   "source": [
    "import pandas as pd\n",
    "import matplotlib.pyplot as plt\n",
    "import numpy as np\n",
    "from matplotlib.colors import LogNorm\n",
    "from lmfit.models import QuadraticModel, LorentzianModel\n",
    "import math\n",
    "\n",
    "def findarg(data, value):\n",
    "    arg = 0\n",
    "    for wl in data:\n",
    "        if wl<value:\n",
    "            arg = arg + 1\n",
    "        else:\n",
    "            return arg\n",
    "        \n",
    "    return arg"
   ]
  },
  {
   "cell_type": "code",
   "execution_count": 36,
   "metadata": {},
   "outputs": [],
   "source": [
    "def integrate (wavelength, intensity, minWavelength, maxWavelength):\n",
    "    sum = 0\n",
    "    Index = list(range(findarg(wavelength, minWavelength),findarg(wavelength, maxWavelength)))\n",
    "    for i in Index:\n",
    "        sum += intensity[i]*(wavelength[i+1]-wavelength[i])\n",
    "    return sum\n",
    "        "
   ]
  },
  {
   "cell_type": "code",
   "execution_count": 37,
   "metadata": {},
   "outputs": [],
   "source": [
    "def getRatio(data):\n",
    "\n",
    "    #fit NV0\n",
    "\n",
    "\n",
    "    model1 = QuadraticModel(prefix='bkg_') + LorentzianModel(prefix='r1_') + LorentzianModel(prefix='nv0_')\n",
    "    # model1 =  LorentzianModel(prefix='r1_') + LorentzianModel(prefix='nv0_')\n",
    "    model = model1\n",
    "    params = model.make_params()\n",
    "    nv0_peak = data['W'][375+np.argmax(data['I'][375:390])]\n",
    "\n",
    "    params['r1_center'].set(value = 572.7, vary=True)\n",
    "    params['r1_amplitude'].set(value=48000, min = 0, vary=True)\n",
    "    params['r1_sigma'].set(value=0.25, vary=True)\n",
    "\n",
    "    params['nv0_center'].set(value = nv0_peak, min = nv0_peak-0.5, max = nv0_peak+0.5, vary=True)\n",
    "    params['nv0_amplitude'].set(value=47123, min = 0, vary=True)\n",
    "    params['nv0_sigma'].set(value=0.3, max = 0.4, vary=True)\n",
    "\n",
    "    params['bkg_a'].set(value = 0, vary= False)\n",
    "    params['bkg_b'].set(value = 0, vary=False)\n",
    "    params['bkg_c'].set(value = 0, vary=True)\n",
    "\n",
    "    # for EL2-97\n",
    "    Index = list(range(359,400))\n",
    "\n",
    "    # for EL2-98\n",
    "    # Index = list(range(358,400))\n",
    "\n",
    "    weightList = 1/np.sqrt(data['I'][Index])\n",
    "    result = model.fit(data['I'][Index], params, x=data['W'][Index], weights=weightList)\n",
    "    comps = result.eval_components(x=data['W'][Index])\n",
    "    nv0Center = result.params['nv0_center']\n",
    "    nv0HWHM = result.params['nv0_sigma']\n",
    "    nv0 = integrate(data['W'],comps['nv0_'],nv0Center - nv0HWHM*2, nv0Center + nv0HWHM*2)\n",
    "\n",
    "\n",
    "    #fit NV-\n",
    "\n",
    "    model2 = QuadraticModel(prefix='bkg_') + LorentzianModel(prefix='nvm_')\n",
    "    model = model2\n",
    "    params = model.make_params()\n",
    "    nvm_peak = data['W'][1080+np.argmax(data['I'][1080:1110])]\n",
    "\n",
    "    params['nvm_center'].set(value=nvm_peak, min = nvm_peak-0.5, max = nvm_peak + 0.5, vary=True)\n",
    "    params['nvm_amplitude'].set(value=10000, min = 0, vary=True)\n",
    "    params['nvm_sigma'].set(value=0.5, max = 1, vary=True)\n",
    "\n",
    "    params['bkg_a'].set(value = 0, vary=False)\n",
    "    params['bkg_b'].set(value = 0, vary=True)\n",
    "    params['bkg_c'].set(value = 0, vary=True)\n",
    "\n",
    "    Index = list(range(1000,1200))\n",
    "    weightList = 1/np.sqrt(data['I'][Index])\n",
    "    result = model.fit(data['I'][Index], params, x=data['W'][Index], weights=weightList)\n",
    "    comps = result.eval_components(x=data['W'][Index])\n",
    "    nvmCenter = result.params['nvm_center']\n",
    "    nvmHWHM = result.params['nvm_sigma']\n",
    "    nvm = integrate(data['W'],comps['nvm_'],nvmCenter - nvmHWHM*2, nvmCenter + nvmHWHM*2)\n",
    "\n",
    "    return nvm/(nvm+nv0)"
   ]
  },
  {
   "cell_type": "code",
   "execution_count": 38,
   "metadata": {},
   "outputs": [],
   "source": [
    "high = []\n",
    "mid = []\n",
    "low = []\n",
    "\n",
    "for i in [3,6,9,12,15,18]:\n",
    "    high.append(pd.read_csv('97-m3-'+ str(i) + '-2' + '.csv'))\n",
    "    mid.append(pd.read_csv('97-m3-'+ str(i) + '-0p5' + '.csv'))\n",
    "    low.append(pd.read_csv('97-m3-'+ str(i) + '-0p1' + '.csv'))\n",
    "\n",
    "for i in [3,6,9,12]:\n",
    "    high.append(pd.read_csv('97-m9-'+ str(i) + '-2' + '.csv'))\n",
    "    mid.append(pd.read_csv('97-m9-'+ str(i) + '-0p5' + '.csv'))\n",
    "    low.append(pd.read_csv('97-m9-'+ str(i) + '-0p1' + '.csv'))\n",
    "    \n",
    "\n"
   ]
  },
  {
   "cell_type": "code",
   "execution_count": 39,
   "metadata": {},
   "outputs": [],
   "source": [
    "ratioHighPower = []\n",
    "ratioMidPower = []\n",
    "ratioLowPower = []\n",
    "\n",
    "\n",
    "for data in high:\n",
    "    ratioHighPower.append(getRatio(data))\n",
    "for data in mid:\n",
    "    ratioMidPower.append(getRatio(data))\n",
    "for data in low:\n",
    "    ratioLowPower.append(getRatio(data))\n"
   ]
  },
  {
   "cell_type": "code",
   "execution_count": 40,
   "metadata": {},
   "outputs": [
    {
     "data": {
      "text/plain": [
       "[<matplotlib.lines.Line2D at 0x1ab80829940>]"
      ]
     },
     "execution_count": 40,
     "metadata": {},
     "output_type": "execute_result"
    },
    {
     "data": {
      "image/png": "[encoded data removed]",
      "text/plain": [
       "<Figure size 432x288 with 1 Axes>"
      ]
     },
     "metadata": {
      "needs_background": "light"
     },
     "output_type": "display_data"
    }
   ],
   "source": [
    "plt.plot(ratioHighPower)"
   ]
  },
  {
   "cell_type": "code",
   "execution_count": 41,
   "metadata": {},
   "outputs": [
    {
     "data": {
      "text/plain": [
       "[<matplotlib.lines.Line2D at 0x1ab808c1f70>]"
      ]
     },
     "execution_count": 41,
     "metadata": {},
     "output_type": "execute_result"
    },
    {
     "data": {
      "image/png": "[encoded data removed]",
      "text/plain": [
       "<Figure size 432x288 with 1 Axes>"
      ]
     },
     "metadata": {
      "needs_background": "light"
     },
     "output_type": "display_data"
    }
   ],
   "source": [
    "plt.plot(ratioMidPower)"
   ]
  },
  {
   "cell_type": "code",
   "execution_count": 42,
   "metadata": {},
   "outputs": [
    {
     "data": {
      "text/plain": [
       "[<matplotlib.lines.Line2D at 0x1ab80923df0>]"
      ]
     },
     "execution_count": 42,
     "metadata": {},
     "output_type": "execute_result"
    },
    {
     "data": {
      "image/png": "[encoded data removed]",
      "text/plain": [
       "<Figure size 432x288 with 1 Axes>"
      ]
     },
     "metadata": {
      "needs_background": "light"
     },
     "output_type": "display_data"
    }
   ],
   "source": [
    "plt.plot(ratioLowPower)"
   ]
  },
  {
   "cell_type": "code",
   "execution_count": 43,
   "metadata": {},
   "outputs": [],
   "source": [
    "dfHigh = pd.DataFrame({'nv- ratio': ratioHighPower })\n",
    "dfMid = pd.DataFrame({'nv- ratio': ratioMidPower })\n",
    "dfLow = pd.DataFrame({'nv- ratio': ratioLowPower })\n",
    "dfHigh.to_csv('EL2-97_2mW_NVm_ratio.csv')  \n",
    "dfMid.to_csv('EL2-97_0p5mW_NVm_ratio.csv')  \n",
    "dfLow.to_csv('EL2-97_0p1mW_NVm_ratio.csv')  \n"
   ]
  }
 ],
 "metadata": {
  "kernelspec": {
   "display_name": "base",
   "language": "python",
   "name": "python3"
  },
  "language_info": {
   "codemirror_mode": {
    "name": "ipython",
    "version": 3
   },
   "file_extension": ".py",
   "mimetype": "text/x-python",
   "name": "python",
   "nbconvert_exporter": "python",
   "pygments_lexer": "ipython3",
   "version": "3.9.7"
  },
  "orig_nbformat": 4
 },
 "nbformat": 4,
 "nbformat_minor": 2
}
