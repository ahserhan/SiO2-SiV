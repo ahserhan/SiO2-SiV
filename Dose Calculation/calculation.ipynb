{
 "cells": [
  {
   "cell_type": "code",
   "execution_count": 13,
   "metadata": {},
   "outputs": [],
   "source": [
    "import numpy as np\n",
    "import math\n",
    "import scipy.constants as const\n",
    "import uncertainties as unc\n",
    "import uncertainties.unumpy as unp\n",
    "import matplotlib.pyplot as plt\n",
    "import pandas as pd\n",
    "%matplotlib inline"
   ]
  },
  {
   "cell_type": "code",
   "execution_count": 14,
   "metadata": {},
   "outputs": [
    {
     "data": {
      "text/html": [
       "<div>\n",
       "<style scoped>\n",
       "    .dataframe tbody tr th:only-of-type {\n",
       "        vertical-align: middle;\n",
       "    }\n",
       "\n",
       "    .dataframe tbody tr th {\n",
       "        vertical-align: top;\n",
       "    }\n",
       "\n",
       "    .dataframe thead th {\n",
       "        text-align: right;\n",
       "    }\n",
       "</style>\n",
       "<table border=\"1\" class=\"dataframe\">\n",
       "  <thead>\n",
       "    <tr style=\"text-align: right;\">\n",
       "      <th></th>\n",
       "      <th>Region</th>\n",
       "      <th>Current</th>\n",
       "      <th>CE</th>\n",
       "      <th>Pass</th>\n",
       "      <th>Diameter</th>\n",
       "      <th>DE</th>\n",
       "    </tr>\n",
       "  </thead>\n",
       "  <tbody>\n",
       "    <tr>\n",
       "      <th>0</th>\n",
       "      <td>1</td>\n",
       "      <td>0.0077</td>\n",
       "      <td>0.000077</td>\n",
       "      <td>1</td>\n",
       "      <td>8.0</td>\n",
       "      <td>0.5</td>\n",
       "    </tr>\n",
       "    <tr>\n",
       "      <th>1</th>\n",
       "      <td>2</td>\n",
       "      <td>0.0240</td>\n",
       "      <td>0.000240</td>\n",
       "      <td>1</td>\n",
       "      <td>10.5</td>\n",
       "      <td>0.5</td>\n",
       "    </tr>\n",
       "    <tr>\n",
       "      <th>2</th>\n",
       "      <td>3</td>\n",
       "      <td>0.0800</td>\n",
       "      <td>0.000800</td>\n",
       "      <td>1</td>\n",
       "      <td>14.0</td>\n",
       "      <td>2.0</td>\n",
       "    </tr>\n",
       "    <tr>\n",
       "      <th>3</th>\n",
       "      <td>4</td>\n",
       "      <td>0.4300</td>\n",
       "      <td>0.004300</td>\n",
       "      <td>1</td>\n",
       "      <td>30.0</td>\n",
       "      <td>2.0</td>\n",
       "    </tr>\n",
       "    <tr>\n",
       "      <th>4</th>\n",
       "      <td>5</td>\n",
       "      <td>0.7900</td>\n",
       "      <td>0.007900</td>\n",
       "      <td>2</td>\n",
       "      <td>38.0</td>\n",
       "      <td>2.0</td>\n",
       "    </tr>\n",
       "    <tr>\n",
       "      <th>5</th>\n",
       "      <td>6</td>\n",
       "      <td>0.7900</td>\n",
       "      <td>0.007900</td>\n",
       "      <td>10</td>\n",
       "      <td>38.0</td>\n",
       "      <td>2.0</td>\n",
       "    </tr>\n",
       "  </tbody>\n",
       "</table>\n",
       "</div>"
      ],
      "text/plain": [
       "   Region  Current        CE  Pass  Diameter   DE\n",
       "0       1   0.0077  0.000077     1       8.0  0.5\n",
       "1       2   0.0240  0.000240     1      10.5  0.5\n",
       "2       3   0.0800  0.000800     1      14.0  2.0\n",
       "3       4   0.4300  0.004300     1      30.0  2.0\n",
       "4       5   0.7900  0.007900     2      38.0  2.0\n",
       "5       6   0.7900  0.007900    10      38.0  2.0"
      ]
     },
     "execution_count": 14,
     "metadata": {},
     "output_type": "execute_result"
    }
   ],
   "source": [
    "data = pd.read_csv('Dose.csv')\n",
    "data"
   ]
  },
  {
   "cell_type": "code",
   "execution_count": 15,
   "metadata": {},
   "outputs": [],
   "source": [
    "#dwell has unit ns\n",
    "dwell = 1e-6\n",
    "\n",
    "#current has unit A\n",
    "current = []\n",
    "# current = unc.ufloat(data['Current'],data['CE'])   \n",
    "for i in [0,1,2,3,4,5]:\n",
    "    current.append(unc.ufloat(data['Current'][i],  data['CE'][i])*1e-9)\n",
    "overlap = 2\n",
    "multip =  data['Pass']\n",
    "\n",
    "#diameter has unit m\n",
    "diameter = []\n",
    "for i in [0,1,2,3,4,5]:\n",
    "    diameter.append(unc.ufloat(data['Diameter'][i],  data['DE'][i])*1e-9)\n",
    "radius = []\n",
    "for i in [0,1,2,3,4,5]:\n",
    "    radius.append(diameter[i]/2)\n",
    "ctoe = 6.242e18\n",
    "\n",
    "#dose in  cm^-2\n",
    "dose = []\n",
    "for i in [0,1,2,3,4,5]:\n",
    "    dose.append(current[i]*ctoe*dwell*overlap*multip[i]/(math.pi*radius[i]**2)/(100)**2)\n"
   ]
  },
  {
   "cell_type": "code",
   "execution_count": 16,
   "metadata": {},
   "outputs": [
    {
     "data": {
      "text/plain": [
       "0     1\n",
       "1     1\n",
       "2     1\n",
       "3     1\n",
       "4     2\n",
       "5    10\n",
       "Name: Pass, dtype: int64"
      ]
     },
     "execution_count": 16,
     "metadata": {},
     "output_type": "execute_result"
    }
   ],
   "source": [
    "multip"
   ]
  },
  {
   "cell_type": "code",
   "execution_count": 17,
   "metadata": {},
   "outputs": [
    {
     "data": {
      "text/plain": [
       "[7.700000000000002e-12+/-7.7e-14,\n",
       " 2.4e-11+/-2.4000000000000004e-13,\n",
       " 8.000000000000001e-11+/-8.000000000000001e-13,\n",
       " 4.3e-10+/-4.300000000000001e-12,\n",
       " 7.900000000000001e-10+/-7.900000000000001e-12,\n",
       " 7.900000000000001e-10+/-7.900000000000001e-12]"
      ]
     },
     "execution_count": 17,
     "metadata": {},
     "output_type": "execute_result"
    }
   ],
   "source": [
    "current"
   ]
  },
  {
   "cell_type": "code",
   "execution_count": 18,
   "metadata": {},
   "outputs": [
    {
     "name": "stdout",
     "output_type": "stream",
     "text": [
      "Region 0 : (1.91±0.24)×10¹⁴ cm^-2\n",
      "Region 1 : (3.46±0.33)×10¹⁴ cm^-2\n",
      "Region 2 : (6.5±1.9)×10¹⁴ cm^-2\n",
      "Region 3 : (7.6±1.0)×10¹⁴ cm^-2\n",
      "Region 4 : (1.74±0.18)×10¹⁵ cm^-2\n",
      "Region 5 : (8.70±0.92)×10¹⁵ cm^-2\n"
     ]
    }
   ],
   "source": [
    "for i in [0,1,2,3,4,5]:\n",
    "    print('Region',i,': {:.2uP} cm^-2'.format(dose[i]))"
   ]
  },
  {
   "cell_type": "code",
   "execution_count": 19,
   "metadata": {},
   "outputs": [
    {
     "name": "stdout",
     "output_type": "stream",
     "text": [
      "Region 0 : 0.007700±0.000077 nA\n",
      "Region 1 : 0.02400±0.00024 nA\n",
      "Region 2 : 0.08000±0.00080 nA\n",
      "Region 3 : 0.4300±0.0043 nA\n",
      "Region 4 : 0.7900±0.0079 nA\n",
      "Region 5 : 0.7900±0.0079 nA\n"
     ]
    }
   ],
   "source": [
    "for i in [0,1,2,3,4,5]:\n",
    "    print('Region',i,': {:.2uP} nA'.format(current[i]*1e9))"
   ]
  },
  {
   "cell_type": "code",
   "execution_count": 20,
   "metadata": {},
   "outputs": [],
   "source": [
    "dose_value = unp.nominal_values(dose)\n",
    "count = [1.2e4, 1.4e4, 1.6e4, 2.5e4, 2e4, 1.7e4]"
   ]
  },
  {
   "cell_type": "code",
   "execution_count": 21,
   "metadata": {},
   "outputs": [
    {
     "data": {
      "image/png": "[encoded data removed]",
      "text/plain": [
       "<Figure size 864x648 with 1 Axes>"
      ]
     },
     "metadata": {
      "needs_background": "light"
     },
     "output_type": "display_data"
    }
   ],
   "source": [
    "myfig = plt.figure(figsize=(12,9))\n",
    "plt.grid()\n",
    "plt.xlabel(r'regions')\n",
    "plt.ylabel(r'dose (cm$^-2$)')\n",
    "plt.plot(dose_value,'.r', markersize = 20);\n"
   ]
  },
  {
   "cell_type": "code",
   "execution_count": 22,
   "metadata": {},
   "outputs": [
    {
     "data": {
      "image/png": "[encoded data removed]",
      "text/plain": [
       "<Figure size 864x648 with 1 Axes>"
      ]
     },
     "metadata": {
      "needs_background": "light"
     },
     "output_type": "display_data"
    }
   ],
   "source": [
    "myfig = plt.figure(figsize=(12,9))\n",
    "plt.grid()\n",
    "plt.xlabel(r'regions')\n",
    "plt.ylabel(r'count (s$^-1$)')\n",
    "plt.plot(count,'.b', markersize = 20);"
   ]
  },
  {
   "cell_type": "code",
   "execution_count": 23,
   "metadata": {},
   "outputs": [
    {
     "data": {
      "image/png": "[encoded data removed]",
      "text/plain": [
       "<Figure size 432x288 with 2 Axes>"
      ]
     },
     "metadata": {
      "needs_background": "light"
     },
     "output_type": "display_data"
    }
   ],
   "source": [
    "fig, ax1 = plt.subplots()\n",
    "\n",
    "color = 'tab:red'\n",
    "ax1.set_xlabel('regions')\n",
    "ax1.set_ylabel('dose (cm$^-2$)', color=color)\n",
    "ax1.plot(dose_value,'.r', markersize = 20)\n",
    "ax1.tick_params(axis='y', labelcolor=color)\n",
    "\n",
    "ax2 = ax1.twinx()  # instantiate a second axes that shares the same x-axis\n",
    "\n",
    "color = 'tab:blue'\n",
    "ax2.set_ylabel('count (s$^-1$)', color=color)  # we already handled the x-label with ax1\n",
    "ax2.plot(count,'.b', markersize = 15)\n",
    "ax2.tick_params(axis='y', labelcolor=color)\n",
    "\n",
    "fig.tight_layout()  # otherwise the right y-label is slightly clipped\n",
    "plt.show()"
   ]
  },
  {
   "cell_type": "code",
   "execution_count": null,
   "metadata": {},
   "outputs": [],
   "source": []
  }
 ],
 "metadata": {
  "kernelspec": {
   "display_name": "base",
   "language": "python",
   "name": "python3"
  },
  "language_info": {
   "codemirror_mode": {
    "name": "ipython",
    "version": 3
   },
   "file_extension": ".py",
   "mimetype": "text/x-python",
   "name": "python",
   "nbconvert_exporter": "python",
   "pygments_lexer": "ipython3",
   "version": "3.9.7"
  },
  "orig_nbformat": 4
 },
 "nbformat": 4,
 "nbformat_minor": 2
}
