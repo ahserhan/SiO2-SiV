{
 "cells": [
  {
   "cell_type": "code",
   "execution_count": 363,
   "metadata": {},
   "outputs": [],
   "source": [
    "import numpy as np\n",
    "import math\n",
    "import scipy.constants as const\n",
    "import uncertainties as unc\n",
    "import uncertainties.unumpy as unp\n",
    "import matplotlib.pyplot as plt\n",
    "import pandas as pd\n",
    "%matplotlib inline"
   ]
  },
  {
   "attachments": {},
   "cell_type": "markdown",
   "metadata": {},
   "source": [
    "# import FIB data and calculate dose"
   ]
  },
  {
   "cell_type": "code",
   "execution_count": 364,
   "metadata": {},
   "outputs": [
    {
     "data": {
      "text/html": [
       "<div>\n",
       "<style scoped>\n",
       "    .dataframe tbody tr th:only-of-type {\n",
       "        vertical-align: middle;\n",
       "    }\n",
       "\n",
       "    .dataframe tbody tr th {\n",
       "        vertical-align: top;\n",
       "    }\n",
       "\n",
       "    .dataframe thead th {\n",
       "        text-align: right;\n",
       "    }\n",
       "</style>\n",
       "<table border=\"1\" class=\"dataframe\">\n",
       "  <thead>\n",
       "    <tr style=\"text-align: right;\">\n",
       "      <th></th>\n",
       "      <th>E</th>\n",
       "      <th>C</th>\n",
       "      <th>CE</th>\n",
       "      <th>Pass</th>\n",
       "      <th>D</th>\n",
       "      <th>DE</th>\n",
       "      <th>DT</th>\n",
       "    </tr>\n",
       "  </thead>\n",
       "  <tbody>\n",
       "    <tr>\n",
       "      <th>0</th>\n",
       "      <td>1</td>\n",
       "      <td>0.0013</td>\n",
       "      <td>0.000013</td>\n",
       "      <td>1</td>\n",
       "      <td>5.0</td>\n",
       "      <td>0.5</td>\n",
       "      <td>2.500000e-08</td>\n",
       "    </tr>\n",
       "    <tr>\n",
       "      <th>1</th>\n",
       "      <td>2</td>\n",
       "      <td>0.0013</td>\n",
       "      <td>0.000013</td>\n",
       "      <td>1</td>\n",
       "      <td>5.0</td>\n",
       "      <td>0.5</td>\n",
       "      <td>5.000000e-08</td>\n",
       "    </tr>\n",
       "    <tr>\n",
       "      <th>2</th>\n",
       "      <td>3</td>\n",
       "      <td>0.0013</td>\n",
       "      <td>0.000013</td>\n",
       "      <td>1</td>\n",
       "      <td>5.0</td>\n",
       "      <td>0.5</td>\n",
       "      <td>1.000000e-07</td>\n",
       "    </tr>\n",
       "    <tr>\n",
       "      <th>3</th>\n",
       "      <td>4</td>\n",
       "      <td>0.0013</td>\n",
       "      <td>0.000013</td>\n",
       "      <td>1</td>\n",
       "      <td>5.0</td>\n",
       "      <td>0.5</td>\n",
       "      <td>2.500000e-07</td>\n",
       "    </tr>\n",
       "    <tr>\n",
       "      <th>4</th>\n",
       "      <td>5</td>\n",
       "      <td>0.0013</td>\n",
       "      <td>0.000013</td>\n",
       "      <td>1</td>\n",
       "      <td>5.0</td>\n",
       "      <td>0.5</td>\n",
       "      <td>5.000000e-07</td>\n",
       "    </tr>\n",
       "    <tr>\n",
       "      <th>5</th>\n",
       "      <td>6</td>\n",
       "      <td>0.0013</td>\n",
       "      <td>0.000013</td>\n",
       "      <td>1</td>\n",
       "      <td>5.0</td>\n",
       "      <td>0.5</td>\n",
       "      <td>1.000000e-06</td>\n",
       "    </tr>\n",
       "    <tr>\n",
       "      <th>6</th>\n",
       "      <td>7</td>\n",
       "      <td>0.0077</td>\n",
       "      <td>0.000077</td>\n",
       "      <td>1</td>\n",
       "      <td>8.0</td>\n",
       "      <td>0.5</td>\n",
       "      <td>1.000000e-06</td>\n",
       "    </tr>\n",
       "    <tr>\n",
       "      <th>7</th>\n",
       "      <td>8</td>\n",
       "      <td>0.0240</td>\n",
       "      <td>0.000240</td>\n",
       "      <td>1</td>\n",
       "      <td>10.5</td>\n",
       "      <td>0.5</td>\n",
       "      <td>1.000000e-06</td>\n",
       "    </tr>\n",
       "    <tr>\n",
       "      <th>8</th>\n",
       "      <td>9</td>\n",
       "      <td>0.0800</td>\n",
       "      <td>0.000800</td>\n",
       "      <td>1</td>\n",
       "      <td>14.0</td>\n",
       "      <td>2.0</td>\n",
       "      <td>1.000000e-06</td>\n",
       "    </tr>\n",
       "    <tr>\n",
       "      <th>9</th>\n",
       "      <td>10</td>\n",
       "      <td>0.4300</td>\n",
       "      <td>0.004300</td>\n",
       "      <td>1</td>\n",
       "      <td>30.0</td>\n",
       "      <td>2.0</td>\n",
       "      <td>1.000000e-06</td>\n",
       "    </tr>\n",
       "    <tr>\n",
       "      <th>10</th>\n",
       "      <td>11</td>\n",
       "      <td>0.7900</td>\n",
       "      <td>0.007900</td>\n",
       "      <td>2</td>\n",
       "      <td>38.0</td>\n",
       "      <td>2.0</td>\n",
       "      <td>1.000000e-06</td>\n",
       "    </tr>\n",
       "    <tr>\n",
       "      <th>11</th>\n",
       "      <td>12</td>\n",
       "      <td>0.7900</td>\n",
       "      <td>0.007900</td>\n",
       "      <td>10</td>\n",
       "      <td>38.0</td>\n",
       "      <td>2.0</td>\n",
       "      <td>1.000000e-06</td>\n",
       "    </tr>\n",
       "  </tbody>\n",
       "</table>\n",
       "</div>"
      ],
      "text/plain": [
       "     E       C        CE  Pass     D   DE            DT\n",
       "0    1  0.0013  0.000013     1   5.0  0.5  2.500000e-08\n",
       "1    2  0.0013  0.000013     1   5.0  0.5  5.000000e-08\n",
       "2    3  0.0013  0.000013     1   5.0  0.5  1.000000e-07\n",
       "3    4  0.0013  0.000013     1   5.0  0.5  2.500000e-07\n",
       "4    5  0.0013  0.000013     1   5.0  0.5  5.000000e-07\n",
       "5    6  0.0013  0.000013     1   5.0  0.5  1.000000e-06\n",
       "6    7  0.0077  0.000077     1   8.0  0.5  1.000000e-06\n",
       "7    8  0.0240  0.000240     1  10.5  0.5  1.000000e-06\n",
       "8    9  0.0800  0.000800     1  14.0  2.0  1.000000e-06\n",
       "9   10  0.4300  0.004300     1  30.0  2.0  1.000000e-06\n",
       "10  11  0.7900  0.007900     2  38.0  2.0  1.000000e-06\n",
       "11  12  0.7900  0.007900    10  38.0  2.0  1.000000e-06"
      ]
     },
     "execution_count": 364,
     "metadata": {},
     "output_type": "execute_result"
    }
   ],
   "source": [
    "data = pd.read_csv('Dose.csv')\n",
    "data"
   ]
  },
  {
   "cell_type": "code",
   "execution_count": 365,
   "metadata": {},
   "outputs": [],
   "source": [
    "#dwell has unit s\n",
    "dwell = data['DT']\n",
    "\n",
    "#current has unit nA\n",
    "current = []\n",
    "# current = unc.ufloat(data['Current'],data['CE'])   \n",
    "for i in range(12):\n",
    "    current.append(unc.ufloat(data['C'][i],  data['CE'][i])*1e-9)\n",
    "overlap = 2\n",
    "multip =  data['Pass']\n",
    "\n",
    "#diameter has unit m\n",
    "diameter = []\n",
    "for i in range(12):\n",
    "    diameter.append(unc.ufloat(data['D'][i],  data['DE'][i])*1e-9)\n",
    "radius = []\n",
    "for i in range(12):\n",
    "    radius.append(diameter[i]/2)\n",
    "ctoe = 6.242e18\n",
    "\n",
    "#dose in  cm^-2\n",
    "dose = []\n",
    "for i in range(12):\n",
    "    dose.append(current[i]*ctoe*dwell[i]*overlap*multip[i]/(math.pi*radius[i]**2)/(100)**2)\n"
   ]
  },
  {
   "cell_type": "code",
   "execution_count": 366,
   "metadata": {},
   "outputs": [
    {
     "data": {
      "text/plain": [
       "0      1\n",
       "1      1\n",
       "2      1\n",
       "3      1\n",
       "4      1\n",
       "5      1\n",
       "6      1\n",
       "7      1\n",
       "8      1\n",
       "9      1\n",
       "10     2\n",
       "11    10\n",
       "Name: Pass, dtype: int64"
      ]
     },
     "execution_count": 366,
     "metadata": {},
     "output_type": "execute_result"
    }
   ],
   "source": [
    "multip"
   ]
  },
  {
   "cell_type": "code",
   "execution_count": 367,
   "metadata": {},
   "outputs": [
    {
     "data": {
      "text/plain": [
       "[1.3000000000000001e-12+/-1.3e-14,\n",
       " 1.3000000000000001e-12+/-1.3e-14,\n",
       " 1.3000000000000001e-12+/-1.3e-14,\n",
       " 1.3000000000000001e-12+/-1.3e-14,\n",
       " 1.3000000000000001e-12+/-1.3e-14,\n",
       " 1.3000000000000001e-12+/-1.3e-14,\n",
       " 7.700000000000002e-12+/-7.7e-14,\n",
       " 2.4e-11+/-2.4000000000000004e-13,\n",
       " 8.000000000000001e-11+/-8.000000000000001e-13,\n",
       " 4.3e-10+/-4.300000000000001e-12,\n",
       " 7.900000000000001e-10+/-7.900000000000001e-12,\n",
       " 7.900000000000001e-10+/-7.900000000000001e-12]"
      ]
     },
     "execution_count": 367,
     "metadata": {},
     "output_type": "execute_result"
    }
   ],
   "source": [
    "current"
   ]
  },
  {
   "cell_type": "code",
   "execution_count": 368,
   "metadata": {},
   "outputs": [
    {
     "name": "stdout",
     "output_type": "stream",
     "text": [
      "Region 0 : (2.07±0.41)×10¹² cm^-2\n",
      "Region 1 : (4.13±0.83)×10¹² cm^-2\n",
      "Region 2 : (8.3±1.7)×10¹² cm^-2\n",
      "Region 3 : (2.07±0.41)×10¹³ cm^-2\n",
      "Region 4 : (4.13±0.83)×10¹³ cm^-2\n",
      "Region 5 : (8.3±1.7)×10¹³ cm^-2\n",
      "Region 6 : (1.91±0.24)×10¹⁴ cm^-2\n",
      "Region 7 : (3.46±0.33)×10¹⁴ cm^-2\n",
      "Region 8 : (6.5±1.9)×10¹⁴ cm^-2\n",
      "Region 9 : (7.6±1.0)×10¹⁴ cm^-2\n",
      "Region 10 : (1.74±0.18)×10¹⁵ cm^-2\n",
      "Region 11 : (8.70±0.92)×10¹⁵ cm^-2\n"
     ]
    }
   ],
   "source": [
    "for i in range(12):\n",
    "    print('Region',i,': {:.2uP} cm^-2'.format(dose[i]))"
   ]
  },
  {
   "cell_type": "code",
   "execution_count": 369,
   "metadata": {},
   "outputs": [
    {
     "name": "stdout",
     "output_type": "stream",
     "text": [
      "Region 0 : 2.50±0.25 nm\n",
      "Region 1 : 2.50±0.25 nm\n",
      "Region 2 : 2.50±0.25 nm\n",
      "Region 3 : 2.50±0.25 nm\n",
      "Region 4 : 2.50±0.25 nm\n",
      "Region 5 : 2.50±0.25 nm\n",
      "Region 6 : 4.00±0.25 nm\n",
      "Region 7 : 5.25±0.25 nm\n",
      "Region 8 : 7.0±1.0 nm\n",
      "Region 9 : 15.0±1.0 nm\n",
      "Region 10 : 19.0±1.0 nm\n",
      "Region 11 : 19.0±1.0 nm\n"
     ]
    }
   ],
   "source": [
    "for i in range(12):\n",
    "    print('Region',i,': {:.2uP} nm'.format(radius[i]*1e9))"
   ]
  },
  {
   "cell_type": "code",
   "execution_count": 370,
   "metadata": {},
   "outputs": [],
   "source": [
    "dose_value = unp.nominal_values(dose)\n",
    "count = [1.2e4, 1.4e4, 1.6e4, 2.5e4, 2e4, 1.7e4]"
   ]
  },
  {
   "cell_type": "code",
   "execution_count": 371,
   "metadata": {},
   "outputs": [
    {
     "data": {
      "text/plain": [
       "[<matplotlib.lines.Line2D at 0x2669adc9490>]"
      ]
     },
     "execution_count": 371,
     "metadata": {},
     "output_type": "execute_result"
    },
    {
     "data": {
      "image/png": "[encoded data removed]",
      "text/plain": [
       "<Figure size 864x648 with 1 Axes>"
      ]
     },
     "metadata": {
      "needs_background": "light"
     },
     "output_type": "display_data"
    }
   ],
   "source": [
    "myfig = plt.figure(figsize=(12,9))\n",
    "plt.grid()\n",
    "plt.xlabel(r'regions')\n",
    "plt.ylabel(r'dose (cm$^-2$)')\n",
    "plt.plot(dose_value,'.r', markersize = 20)"
   ]
  },
  {
   "cell_type": "code",
   "execution_count": 372,
   "metadata": {},
   "outputs": [
    {
     "data": {
      "image/png": "[encoded data removed]",
      "text/plain": [
       "<Figure size 864x648 with 1 Axes>"
      ]
     },
     "metadata": {
      "needs_background": "light"
     },
     "output_type": "display_data"
    }
   ],
   "source": [
    "myfig = plt.figure(figsize=(12,9))\n",
    "plt.grid()\n",
    "plt.xlabel(r'regions')\n",
    "plt.ylabel(r'dose (cm$^-2$)')\n",
    "plt.plot(dose_value,'.r', markersize = 20)\n",
    "plt.yscale(\"log\")"
   ]
  },
  {
   "attachments": {},
   "cell_type": "markdown",
   "metadata": {},
   "source": [
    "# import PL data and plot"
   ]
  },
  {
   "cell_type": "code",
   "execution_count": 373,
   "metadata": {},
   "outputs": [],
   "source": [
    "el297 = pd.read_csv('el297.csv')\n",
    "el298 = pd.read_csv('el298.csv')\n",
    "calib = unc.ufloat(1.31e6, 8.97e4)\n",
    "# calib = 1.31e6"
   ]
  },
  {
   "cell_type": "code",
   "execution_count": 374,
   "metadata": {},
   "outputs": [
    {
     "data": {
      "text/html": [
       "<div>\n",
       "<style scoped>\n",
       "    .dataframe tbody tr th:only-of-type {\n",
       "        vertical-align: middle;\n",
       "    }\n",
       "\n",
       "    .dataframe tbody tr th {\n",
       "        vertical-align: top;\n",
       "    }\n",
       "\n",
       "    .dataframe thead th {\n",
       "        text-align: right;\n",
       "    }\n",
       "</style>\n",
       "<table border=\"1\" class=\"dataframe\">\n",
       "  <thead>\n",
       "    <tr style=\"text-align: right;\">\n",
       "      <th></th>\n",
       "      <th>region</th>\n",
       "      <th>PL</th>\n",
       "      <th>PLE</th>\n",
       "    </tr>\n",
       "  </thead>\n",
       "  <tbody>\n",
       "    <tr>\n",
       "      <th>0</th>\n",
       "      <td>918</td>\n",
       "      <td>1.0000</td>\n",
       "      <td>1.000000</td>\n",
       "    </tr>\n",
       "    <tr>\n",
       "      <th>1</th>\n",
       "      <td>915</td>\n",
       "      <td>1.0000</td>\n",
       "      <td>1.000000</td>\n",
       "    </tr>\n",
       "    <tr>\n",
       "      <th>2</th>\n",
       "      <td>912</td>\n",
       "      <td>20096.0000</td>\n",
       "      <td>7337.661753</td>\n",
       "    </tr>\n",
       "    <tr>\n",
       "      <th>3</th>\n",
       "      <td>99</td>\n",
       "      <td>67842.0000</td>\n",
       "      <td>23221.059840</td>\n",
       "    </tr>\n",
       "    <tr>\n",
       "      <th>4</th>\n",
       "      <td>96</td>\n",
       "      <td>95446.0000</td>\n",
       "      <td>29799.049150</td>\n",
       "    </tr>\n",
       "    <tr>\n",
       "      <th>5</th>\n",
       "      <td>93</td>\n",
       "      <td>190525.0000</td>\n",
       "      <td>22594.302380</td>\n",
       "    </tr>\n",
       "    <tr>\n",
       "      <th>6</th>\n",
       "      <td>318</td>\n",
       "      <td>466442.8571</td>\n",
       "      <td>38532.880210</td>\n",
       "    </tr>\n",
       "    <tr>\n",
       "      <th>7</th>\n",
       "      <td>315</td>\n",
       "      <td>634440.0000</td>\n",
       "      <td>20712.146190</td>\n",
       "    </tr>\n",
       "    <tr>\n",
       "      <th>8</th>\n",
       "      <td>312</td>\n",
       "      <td>619125.0000</td>\n",
       "      <td>29338.527000</td>\n",
       "    </tr>\n",
       "    <tr>\n",
       "      <th>9</th>\n",
       "      <td>39</td>\n",
       "      <td>515640.0000</td>\n",
       "      <td>43988.782660</td>\n",
       "    </tr>\n",
       "    <tr>\n",
       "      <th>10</th>\n",
       "      <td>36</td>\n",
       "      <td>535900.0000</td>\n",
       "      <td>59236.897290</td>\n",
       "    </tr>\n",
       "    <tr>\n",
       "      <th>11</th>\n",
       "      <td>33</td>\n",
       "      <td>714857.1429</td>\n",
       "      <td>72805.078970</td>\n",
       "    </tr>\n",
       "  </tbody>\n",
       "</table>\n",
       "</div>"
      ],
      "text/plain": [
       "    region           PL           PLE\n",
       "0      918       1.0000      1.000000\n",
       "1      915       1.0000      1.000000\n",
       "2      912   20096.0000   7337.661753\n",
       "3       99   67842.0000  23221.059840\n",
       "4       96   95446.0000  29799.049150\n",
       "5       93  190525.0000  22594.302380\n",
       "6      318  466442.8571  38532.880210\n",
       "7      315  634440.0000  20712.146190\n",
       "8      312  619125.0000  29338.527000\n",
       "9       39  515640.0000  43988.782660\n",
       "10      36  535900.0000  59236.897290\n",
       "11      33  714857.1429  72805.078970"
      ]
     },
     "execution_count": 374,
     "metadata": {},
     "output_type": "execute_result"
    }
   ],
   "source": [
    "el297"
   ]
  },
  {
   "cell_type": "code",
   "execution_count": 375,
   "metadata": {},
   "outputs": [
    {
     "data": {
      "text/html": [
       "<div>\n",
       "<style scoped>\n",
       "    .dataframe tbody tr th:only-of-type {\n",
       "        vertical-align: middle;\n",
       "    }\n",
       "\n",
       "    .dataframe tbody tr th {\n",
       "        vertical-align: top;\n",
       "    }\n",
       "\n",
       "    .dataframe thead th {\n",
       "        text-align: right;\n",
       "    }\n",
       "</style>\n",
       "<table border=\"1\" class=\"dataframe\">\n",
       "  <thead>\n",
       "    <tr style=\"text-align: right;\">\n",
       "      <th></th>\n",
       "      <th>region</th>\n",
       "      <th>PL</th>\n",
       "      <th>PLE</th>\n",
       "    </tr>\n",
       "  </thead>\n",
       "  <tbody>\n",
       "    <tr>\n",
       "      <th>2</th>\n",
       "      <td>912</td>\n",
       "      <td>20096.0000</td>\n",
       "      <td>7337.661753</td>\n",
       "    </tr>\n",
       "    <tr>\n",
       "      <th>3</th>\n",
       "      <td>99</td>\n",
       "      <td>67842.0000</td>\n",
       "      <td>23221.059840</td>\n",
       "    </tr>\n",
       "    <tr>\n",
       "      <th>4</th>\n",
       "      <td>96</td>\n",
       "      <td>95446.0000</td>\n",
       "      <td>29799.049150</td>\n",
       "    </tr>\n",
       "    <tr>\n",
       "      <th>5</th>\n",
       "      <td>93</td>\n",
       "      <td>190525.0000</td>\n",
       "      <td>22594.302380</td>\n",
       "    </tr>\n",
       "    <tr>\n",
       "      <th>6</th>\n",
       "      <td>318</td>\n",
       "      <td>466442.8571</td>\n",
       "      <td>38532.880210</td>\n",
       "    </tr>\n",
       "    <tr>\n",
       "      <th>7</th>\n",
       "      <td>315</td>\n",
       "      <td>634440.0000</td>\n",
       "      <td>20712.146190</td>\n",
       "    </tr>\n",
       "    <tr>\n",
       "      <th>8</th>\n",
       "      <td>312</td>\n",
       "      <td>619125.0000</td>\n",
       "      <td>29338.527000</td>\n",
       "    </tr>\n",
       "    <tr>\n",
       "      <th>9</th>\n",
       "      <td>39</td>\n",
       "      <td>515640.0000</td>\n",
       "      <td>43988.782660</td>\n",
       "    </tr>\n",
       "    <tr>\n",
       "      <th>10</th>\n",
       "      <td>36</td>\n",
       "      <td>535900.0000</td>\n",
       "      <td>59236.897290</td>\n",
       "    </tr>\n",
       "    <tr>\n",
       "      <th>11</th>\n",
       "      <td>33</td>\n",
       "      <td>714857.1429</td>\n",
       "      <td>72805.078970</td>\n",
       "    </tr>\n",
       "  </tbody>\n",
       "</table>\n",
       "</div>"
      ],
      "text/plain": [
       "    region           PL           PLE\n",
       "2      912   20096.0000   7337.661753\n",
       "3       99   67842.0000  23221.059840\n",
       "4       96   95446.0000  29799.049150\n",
       "5       93  190525.0000  22594.302380\n",
       "6      318  466442.8571  38532.880210\n",
       "7      315  634440.0000  20712.146190\n",
       "8      312  619125.0000  29338.527000\n",
       "9       39  515640.0000  43988.782660\n",
       "10      36  535900.0000  59236.897290\n",
       "11      33  714857.1429  72805.078970"
      ]
     },
     "execution_count": 375,
     "metadata": {},
     "output_type": "execute_result"
    }
   ],
   "source": [
    "el297[2:12]"
   ]
  },
  {
   "cell_type": "code",
   "execution_count": 376,
   "metadata": {},
   "outputs": [
    {
     "data": {
      "text/html": [
       "<div>\n",
       "<style scoped>\n",
       "    .dataframe tbody tr th:only-of-type {\n",
       "        vertical-align: middle;\n",
       "    }\n",
       "\n",
       "    .dataframe tbody tr th {\n",
       "        vertical-align: top;\n",
       "    }\n",
       "\n",
       "    .dataframe thead th {\n",
       "        text-align: right;\n",
       "    }\n",
       "</style>\n",
       "<table border=\"1\" class=\"dataframe\">\n",
       "  <thead>\n",
       "    <tr style=\"text-align: right;\">\n",
       "      <th></th>\n",
       "      <th>region</th>\n",
       "      <th>PL</th>\n",
       "      <th>PLE</th>\n",
       "    </tr>\n",
       "  </thead>\n",
       "  <tbody>\n",
       "    <tr>\n",
       "      <th>0</th>\n",
       "      <td>918</td>\n",
       "      <td>1.0</td>\n",
       "      <td>1.0</td>\n",
       "    </tr>\n",
       "    <tr>\n",
       "      <th>1</th>\n",
       "      <td>915</td>\n",
       "      <td>1.0</td>\n",
       "      <td>1.0</td>\n",
       "    </tr>\n",
       "    <tr>\n",
       "      <th>2</th>\n",
       "      <td>912</td>\n",
       "      <td>1.0</td>\n",
       "      <td>1.0</td>\n",
       "    </tr>\n",
       "    <tr>\n",
       "      <th>3</th>\n",
       "      <td>99</td>\n",
       "      <td>1.0</td>\n",
       "      <td>1.0</td>\n",
       "    </tr>\n",
       "    <tr>\n",
       "      <th>4</th>\n",
       "      <td>96</td>\n",
       "      <td>1.0</td>\n",
       "      <td>1.0</td>\n",
       "    </tr>\n",
       "    <tr>\n",
       "      <th>5</th>\n",
       "      <td>93</td>\n",
       "      <td>1.0</td>\n",
       "      <td>1.0</td>\n",
       "    </tr>\n",
       "    <tr>\n",
       "      <th>6</th>\n",
       "      <td>318</td>\n",
       "      <td>2830000.0</td>\n",
       "      <td>163000.0</td>\n",
       "    </tr>\n",
       "    <tr>\n",
       "      <th>7</th>\n",
       "      <td>315</td>\n",
       "      <td>3060000.0</td>\n",
       "      <td>146000.0</td>\n",
       "    </tr>\n",
       "    <tr>\n",
       "      <th>8</th>\n",
       "      <td>312</td>\n",
       "      <td>3060000.0</td>\n",
       "      <td>87300.0</td>\n",
       "    </tr>\n",
       "    <tr>\n",
       "      <th>9</th>\n",
       "      <td>39</td>\n",
       "      <td>2920000.0</td>\n",
       "      <td>109000.0</td>\n",
       "    </tr>\n",
       "    <tr>\n",
       "      <th>10</th>\n",
       "      <td>36</td>\n",
       "      <td>3120000.0</td>\n",
       "      <td>71900.0</td>\n",
       "    </tr>\n",
       "    <tr>\n",
       "      <th>11</th>\n",
       "      <td>33</td>\n",
       "      <td>3910000.0</td>\n",
       "      <td>97200.0</td>\n",
       "    </tr>\n",
       "  </tbody>\n",
       "</table>\n",
       "</div>"
      ],
      "text/plain": [
       "    region         PL       PLE\n",
       "0      918        1.0       1.0\n",
       "1      915        1.0       1.0\n",
       "2      912        1.0       1.0\n",
       "3       99        1.0       1.0\n",
       "4       96        1.0       1.0\n",
       "5       93        1.0       1.0\n",
       "6      318  2830000.0  163000.0\n",
       "7      315  3060000.0  146000.0\n",
       "8      312  3060000.0   87300.0\n",
       "9       39  2920000.0  109000.0\n",
       "10      36  3120000.0   71900.0\n",
       "11      33  3910000.0   97200.0"
      ]
     },
     "execution_count": 376,
     "metadata": {},
     "output_type": "execute_result"
    }
   ],
   "source": [
    "el298"
   ]
  },
  {
   "cell_type": "code",
   "execution_count": 377,
   "metadata": {},
   "outputs": [
    {
     "data": {
      "text/html": [
       "<div>\n",
       "<style scoped>\n",
       "    .dataframe tbody tr th:only-of-type {\n",
       "        vertical-align: middle;\n",
       "    }\n",
       "\n",
       "    .dataframe tbody tr th {\n",
       "        vertical-align: top;\n",
       "    }\n",
       "\n",
       "    .dataframe thead th {\n",
       "        text-align: right;\n",
       "    }\n",
       "</style>\n",
       "<table border=\"1\" class=\"dataframe\">\n",
       "  <thead>\n",
       "    <tr style=\"text-align: right;\">\n",
       "      <th></th>\n",
       "      <th>region</th>\n",
       "      <th>PL</th>\n",
       "      <th>PLE</th>\n",
       "    </tr>\n",
       "  </thead>\n",
       "  <tbody>\n",
       "    <tr>\n",
       "      <th>6</th>\n",
       "      <td>318</td>\n",
       "      <td>2830000.0</td>\n",
       "      <td>163000.0</td>\n",
       "    </tr>\n",
       "    <tr>\n",
       "      <th>7</th>\n",
       "      <td>315</td>\n",
       "      <td>3060000.0</td>\n",
       "      <td>146000.0</td>\n",
       "    </tr>\n",
       "    <tr>\n",
       "      <th>8</th>\n",
       "      <td>312</td>\n",
       "      <td>3060000.0</td>\n",
       "      <td>87300.0</td>\n",
       "    </tr>\n",
       "    <tr>\n",
       "      <th>9</th>\n",
       "      <td>39</td>\n",
       "      <td>2920000.0</td>\n",
       "      <td>109000.0</td>\n",
       "    </tr>\n",
       "    <tr>\n",
       "      <th>10</th>\n",
       "      <td>36</td>\n",
       "      <td>3120000.0</td>\n",
       "      <td>71900.0</td>\n",
       "    </tr>\n",
       "    <tr>\n",
       "      <th>11</th>\n",
       "      <td>33</td>\n",
       "      <td>3910000.0</td>\n",
       "      <td>97200.0</td>\n",
       "    </tr>\n",
       "  </tbody>\n",
       "</table>\n",
       "</div>"
      ],
      "text/plain": [
       "    region         PL       PLE\n",
       "6      318  2830000.0  163000.0\n",
       "7      315  3060000.0  146000.0\n",
       "8      312  3060000.0   87300.0\n",
       "9       39  2920000.0  109000.0\n",
       "10      36  3120000.0   71900.0\n",
       "11      33  3910000.0   97200.0"
      ]
     },
     "execution_count": 377,
     "metadata": {},
     "output_type": "execute_result"
    }
   ],
   "source": [
    "el298[6:12]"
   ]
  },
  {
   "cell_type": "code",
   "execution_count": 378,
   "metadata": {},
   "outputs": [
    {
     "data": {
      "text/plain": [
       "array([-6.117271295655764+/-0.4353114057834351,\n",
       "       -6.117271295655764+/-0.4353114057834351,\n",
       "       -1.814161673598662+/-0.16133840931893695,\n",
       "       -1.2857726531028533+/-0.15159627203052572,\n",
       "       -1.1375135631809596+/-0.13881312344488453,\n",
       "       -0.837319325357068+/-0.05947156245463666,\n",
       "       -0.44847284878700067+/-0.04659924174888813,\n",
       "       -0.314880739203028+/-0.032944533302359115,\n",
       "       -0.3254929546652518+/-0.03616430917893349,\n",
       "       -0.40492469592423624+/-0.04750759307659471,\n",
       "       -0.38818753861215244+/-0.056470087315101176,\n",
       "       -0.26305203462260196+/-0.05329825586063765], dtype=object)"
      ]
     },
     "execution_count": 378,
     "metadata": {},
     "output_type": "execute_result"
    }
   ],
   "source": [
    "log_pl97"
   ]
  },
  {
   "cell_type": "code",
   "execution_count": 379,
   "metadata": {},
   "outputs": [
    {
     "data": {
      "text/plain": [
       "array([12.31520723093396+/-0.0869674022273042,\n",
       "       12.616237226597942+/-0.0869674022273042,\n",
       "       12.917267222261923+/-0.0869674022273042,\n",
       "       13.31520723093396+/-0.08696740222730422,\n",
       "       13.616237226597942+/-0.08696740222730422,\n",
       "       13.917267222261923+/-0.08696740222730422,\n",
       "       14.281574629815719+/-0.054460250968092594,\n",
       "       14.539096522198854+/-0.041588758834767835,\n",
       "       14.812097794262591+/-0.12416011595975189,\n",
       "       14.880489824767386+/-0.05806856297053669,\n",
       "       15.240353772347925+/-0.04592103514729194,\n",
       "       15.939323776683944+/-0.04592103514729195], dtype=object)"
      ]
     },
     "execution_count": 379,
     "metadata": {},
     "output_type": "execute_result"
    }
   ],
   "source": [
    "log_dose"
   ]
  },
  {
   "cell_type": "code",
   "execution_count": 380,
   "metadata": {},
   "outputs": [],
   "source": [
    "pl97 = []\n",
    "for i in range(12):\n",
    "    pl97.append(unc.ufloat(el297['PL'][i], el297['PLE'][i])/calib)\n",
    "pl97_value = unp.nominal_values(pl97)\n",
    "pl97_error = unp.std_devs(pl97)\n",
    "log_pl97 = []\n",
    "# for i in range(2,12):\n",
    "#     log_pl97.append(unp.log10(pl97[i]))\n",
    "log_pl97 = unp.log10(pl97)\n",
    "log_pl97_value = unp.nominal_values(log_pl97)\n",
    "log_pl97_error = unp.std_devs(log_pl97)"
   ]
  },
  {
   "cell_type": "code",
   "execution_count": 381,
   "metadata": {},
   "outputs": [],
   "source": [
    "pl98 = []\n",
    "for i in range(12):\n",
    "    pl98.append(unc.ufloat(el298['PL'][i], el298['PLE'][i])/calib)\n",
    "pl98_value = unp.nominal_values(pl98)\n",
    "pl98_error = unp.std_devs(pl98)\n",
    "log_pl98 = []\n",
    "# for i in range(6,12):\n",
    "#     log_pl98.append(unp.log10(pl98[i]))\n",
    "log_pl98 = unp.log10(pl98)\n",
    "log_pl98_value = unp.nominal_values(log_pl98)\n",
    "log_pl98_error = unp.std_devs(log_pl98)"
   ]
  },
  {
   "cell_type": "code",
   "execution_count": 382,
   "metadata": {},
   "outputs": [],
   "source": [
    "log_dose = unp.log10(dose)\n",
    "log_dose_value = unp.nominal_values(log_dose)\n",
    "log_dose_error = unp.std_devs(log_dose)"
   ]
  },
  {
   "cell_type": "code",
   "execution_count": 383,
   "metadata": {},
   "outputs": [
    {
     "data": {
      "image/png": "[encoded data removed]",
      "text/plain": [
       "<Figure size 864x648 with 1 Axes>"
      ]
     },
     "metadata": {
      "needs_background": "light"
     },
     "output_type": "display_data"
    }
   ],
   "source": [
    "myfig = plt.figure(figsize=(12,9))\n",
    "plt.grid()\n",
    "plt.plot(dose_value[2:12],pl97_value[2:12])\n",
    "plt.plot(dose_value[6:12],pl98_value[6:12])\n",
    "plt.show()"
   ]
  },
  {
   "cell_type": "code",
   "execution_count": 384,
   "metadata": {},
   "outputs": [
    {
     "data": {
      "image/png": "[encoded data removed]",
      "text/plain": [
       "<Figure size 864x648 with 1 Axes>"
      ]
     },
     "metadata": {
      "needs_background": "light"
     },
     "output_type": "display_data"
    }
   ],
   "source": [
    "myfig = plt.figure(figsize=(12,9))\n",
    "plt.grid()\n",
    "plt.plot(log_dose_value[2:12],pl97_value[2:12])\n",
    "plt.plot(log_dose_value[6:12],pl98_value[6:12])\n",
    "plt.show()"
   ]
  },
  {
   "cell_type": "code",
   "execution_count": 385,
   "metadata": {},
   "outputs": [
    {
     "data": {
      "text/plain": [
       "<ErrorbarContainer object of 3 artists>"
      ]
     },
     "execution_count": 385,
     "metadata": {},
     "output_type": "execute_result"
    },
    {
     "data": {
      "image/png": "[encoded data removed]",
      "text/plain": [
       "<Figure size 864x648 with 1 Axes>"
      ]
     },
     "metadata": {
      "needs_background": "light"
     },
     "output_type": "display_data"
    }
   ],
   "source": [
    "myfig = plt.figure(figsize=(12,9))\n",
    "plt.grid()\n",
    "plt.errorbar(log_dose_value[2:12], pl97_value[2:12], xerr=log_dose_error[2:12], yerr=pl97_error[2:12], fmt=\"o\", color=\"r\", markersize=8, capsize=5)\n",
    "plt.errorbar(log_dose_value[6:12], pl98_value[6:12], xerr=log_dose_error[6:12], yerr=pl98_error[6:12], fmt=\"o\", color=\"b\", markersize=8, capsize=5)"
   ]
  },
  {
   "cell_type": "code",
   "execution_count": 386,
   "metadata": {},
   "outputs": [
    {
     "data": {
      "text/plain": [
       "<ErrorbarContainer object of 3 artists>"
      ]
     },
     "execution_count": 386,
     "metadata": {},
     "output_type": "execute_result"
    },
    {
     "data": {
      "image/png": "[encoded data removed]",
      "text/plain": [
       "<Figure size 864x648 with 1 Axes>"
      ]
     },
     "metadata": {
      "needs_background": "light"
     },
     "output_type": "display_data"
    }
   ],
   "source": [
    "myfig = plt.figure(figsize=(12,9))\n",
    "plt.grid()\n",
    "plt.errorbar(log_dose_value[2:12], pl97_value[2:12], xerr=log_dose_error[2:12], yerr=pl97_error[2:12], fmt=\"o\", color=\"r\", markersize=8, capsize=5)\n"
   ]
  },
  {
   "cell_type": "code",
   "execution_count": 387,
   "metadata": {},
   "outputs": [
    {
     "data": {
      "text/plain": [
       "<ErrorbarContainer object of 3 artists>"
      ]
     },
     "execution_count": 387,
     "metadata": {},
     "output_type": "execute_result"
    },
    {
     "data": {
      "image/png": "[encoded data removed]",
      "text/plain": [
       "<Figure size 864x648 with 1 Axes>"
      ]
     },
     "metadata": {
      "needs_background": "light"
     },
     "output_type": "display_data"
    }
   ],
   "source": [
    "myfig = plt.figure(figsize=(12,9))\n",
    "plt.grid()\n",
    "plt.errorbar(log_dose_value[2:12], log_pl97_value[2:12], xerr=log_dose_error[2:12], yerr=log_pl97_error[2:12], fmt=\"o\", color=\"r\", markersize=8, capsize=5)"
   ]
  },
  {
   "cell_type": "code",
   "execution_count": 388,
   "metadata": {},
   "outputs": [
    {
     "data": {
      "text/plain": [
       "<ErrorbarContainer object of 3 artists>"
      ]
     },
     "execution_count": 388,
     "metadata": {},
     "output_type": "execute_result"
    },
    {
     "data": {
      "image/png": "[encoded data removed]",
      "text/plain": [
       "<Figure size 864x648 with 1 Axes>"
      ]
     },
     "metadata": {
      "needs_background": "light"
     },
     "output_type": "display_data"
    }
   ],
   "source": [
    "myfig = plt.figure(figsize=(12,9))\n",
    "plt.grid()\n",
    "plt.errorbar(log_dose_value[6:12], pl98_value[6:12], xerr=log_dose_error[6:12], yerr=pl98_error[6:12], fmt=\"o\", color=\"b\", markersize=8, capsize=5)"
   ]
  },
  {
   "cell_type": "code",
   "execution_count": 389,
   "metadata": {},
   "outputs": [
    {
     "data": {
      "text/plain": [
       "<ErrorbarContainer object of 3 artists>"
      ]
     },
     "execution_count": 389,
     "metadata": {},
     "output_type": "execute_result"
    },
    {
     "data": {
      "image/png": "[encoded data removed]",
      "text/plain": [
       "<Figure size 864x648 with 1 Axes>"
      ]
     },
     "metadata": {
      "needs_background": "light"
     },
     "output_type": "display_data"
    }
   ],
   "source": [
    "myfig = plt.figure(figsize=(12,9))\n",
    "plt.grid()\n",
    "plt.errorbar(log_dose_value[6:12], log_pl98_value[6:12], xerr=log_dose_error[6:12], yerr=log_pl98_error[6:12], fmt=\"o\", color=\"b\", markersize=8, capsize=5)"
   ]
  },
  {
   "cell_type": "code",
   "execution_count": 412,
   "metadata": {},
   "outputs": [
    {
     "data": {
      "text/plain": [
       "<ErrorbarContainer object of 3 artists>"
      ]
     },
     "execution_count": 412,
     "metadata": {},
     "output_type": "execute_result"
    },
    {
     "data": {
      "image/png": "[encoded data removed]",
      "text/plain": [
       "<Figure size 864x648 with 1 Axes>"
      ]
     },
     "metadata": {
      "needs_background": "light"
     },
     "output_type": "display_data"
    }
   ],
   "source": [
    "myfig = plt.figure(figsize=(12,9))\n",
    "plt.grid()\n",
    "# plt.plot(log_dose_value[2:12], log_pl97_value[2:12],  color=\"r\")\n",
    "# plt.plot(log_dose_value[6:12], log_pl98_value[6:12],  color=\"b\")\n",
    "plt.errorbar(log_dose_value[2:12], log_pl97_value[2:12], xerr=log_dose_error[2:12], yerr=log_pl97_error[2:12], fmt=\"o\", color=\"r\", markersize=8, capsize=5)\n",
    "plt.errorbar(log_dose_value[6:12], log_pl98_value[6:12], xerr=log_dose_error[6:12], yerr=log_pl98_error[6:12], fmt=\"o\", color=\"b\", markersize=8, capsize=5)"
   ]
  },
  {
   "cell_type": "code",
   "execution_count": 413,
   "metadata": {},
   "outputs": [
    {
     "data": {
      "text/plain": [
       "<ErrorbarContainer object of 3 artists>"
      ]
     },
     "execution_count": 413,
     "metadata": {},
     "output_type": "execute_result"
    },
    {
     "data": {
      "image/png": "[encoded data removed]",
      "text/plain": [
       "<Figure size 864x648 with 1 Axes>"
      ]
     },
     "metadata": {
      "needs_background": "light"
     },
     "output_type": "display_data"
    }
   ],
   "source": [
    "myfig = plt.figure(figsize=(12,9))\n",
    "plt.grid()\n",
    "plt.plot(log_dose_value[2:12], log_pl97_value[2:12],  color=\"r\")\n",
    "plt.plot(log_dose_value[6:12], log_pl98_value[6:12],  color=\"b\")\n",
    "plt.errorbar(log_dose_value[2:12], log_pl97_value[2:12], xerr=log_dose_error[2:12], yerr=log_pl97_error[2:12], fmt=\"o\", color=\"r\", markersize=8, capsize=5)\n",
    "plt.errorbar(log_dose_value[6:12], log_pl98_value[6:12], xerr=log_dose_error[6:12], yerr=log_pl98_error[6:12], fmt=\"o\", color=\"b\", markersize=8, capsize=5)"
   ]
  },
  {
   "attachments": {},
   "cell_type": "markdown",
   "metadata": {},
   "source": [
    "# yield calculation"
   ]
  },
  {
   "cell_type": "code",
   "execution_count": 399,
   "metadata": {},
   "outputs": [],
   "source": [
    "y97 = []\n",
    "for i in range(12):\n",
    "    y97.append(pl97[i]/dose[i])\n",
    "y97_value = unp.nominal_values(y97)\n",
    "y97_error = unp.std_devs(y97)"
   ]
  },
  {
   "cell_type": "code",
   "execution_count": 400,
   "metadata": {},
   "outputs": [],
   "source": [
    "y98 = []\n",
    "for i in range(12):\n",
    "    y98.append(pl98[i]/dose[i])\n",
    "y98_value = unp.nominal_values(y98)\n",
    "y98_error = unp.std_devs(y98)"
   ]
  },
  {
   "cell_type": "code",
   "execution_count": 406,
   "metadata": {},
   "outputs": [],
   "source": [
    "x = [1,2,3,4,5,6,7,8,9,10,11,12]"
   ]
  },
  {
   "cell_type": "code",
   "execution_count": 407,
   "metadata": {},
   "outputs": [
    {
     "data": {
      "text/plain": [
       "<ErrorbarContainer object of 3 artists>"
      ]
     },
     "execution_count": 407,
     "metadata": {},
     "output_type": "execute_result"
    },
    {
     "data": {
      "image/png": "[encoded data removed]",
      "text/plain": [
       "<Figure size 864x648 with 1 Axes>"
      ]
     },
     "metadata": {
      "needs_background": "light"
     },
     "output_type": "display_data"
    }
   ],
   "source": [
    "myfig = plt.figure(figsize=(12,9))\n",
    "plt.grid()\n",
    "plt.errorbar(x[2:12],y97_value[2:12], yerr=y97_error[2:12], fmt=\"o\", color=\"r\", markersize=8, capsize=5)"
   ]
  },
  {
   "cell_type": "code",
   "execution_count": 408,
   "metadata": {},
   "outputs": [
    {
     "data": {
      "text/plain": [
       "<ErrorbarContainer object of 3 artists>"
      ]
     },
     "execution_count": 408,
     "metadata": {},
     "output_type": "execute_result"
    },
    {
     "data": {
      "image/png": "[encoded data removed]",
      "text/plain": [
       "<Figure size 864x648 with 1 Axes>"
      ]
     },
     "metadata": {
      "needs_background": "light"
     },
     "output_type": "display_data"
    }
   ],
   "source": [
    "myfig = plt.figure(figsize=(12,9))\n",
    "plt.grid()\n",
    "plt.errorbar(x[6:12],y98_value[6:12], yerr=y98_error[6:12], fmt=\"o\", color=\"b\", markersize=8, capsize=5)"
   ]
  },
  {
   "cell_type": "code",
   "execution_count": 410,
   "metadata": {},
   "outputs": [
    {
     "data": {
      "text/plain": [
       "<ErrorbarContainer object of 3 artists>"
      ]
     },
     "execution_count": 410,
     "metadata": {},
     "output_type": "execute_result"
    },
    {
     "data": {
      "image/png": "[encoded data removed]",
      "text/plain": [
       "<Figure size 864x648 with 1 Axes>"
      ]
     },
     "metadata": {
      "needs_background": "light"
     },
     "output_type": "display_data"
    }
   ],
   "source": [
    "myfig = plt.figure(figsize=(12,9))\n",
    "plt.grid()\n",
    "plt.plot(x[2:12],y97_value[2:12],  color=\"r\")\n",
    "plt.plot(x[6:12],y98_value[6:12],  color=\"b\")\n",
    "plt.errorbar(x[2:12],y97_value[2:12], yerr=y97_error[2:12], fmt=\"o\", color=\"r\", markersize=8, capsize=5)\n",
    "plt.errorbar(x[6:12],y98_value[6:12], yerr=y98_error[6:12], fmt=\"o\", color=\"b\", markersize=8, capsize=5)"
   ]
  },
  {
   "attachments": {},
   "cell_type": "markdown",
   "metadata": {},
   "source": [
    "# final plots"
   ]
  },
  {
   "cell_type": "code",
   "execution_count": 425,
   "metadata": {},
   "outputs": [
    {
     "data": {
      "text/plain": [
       "<ErrorbarContainer object of 3 artists>"
      ]
     },
     "execution_count": 425,
     "metadata": {},
     "output_type": "execute_result"
    },
    {
     "data": {
      "image/png": "[encoded data removed]",
      "text/plain": [
       "<Figure size 432x432 with 1 Axes>"
      ]
     },
     "metadata": {
      "needs_background": "light"
     },
     "output_type": "display_data"
    }
   ],
   "source": [
    "myfig = plt.figure(figsize=(6,6))\n",
    "plt.plot(x[2:12],y97_value[2:12],  color=\"r\")\n",
    "plt.plot(x[6:12],y98_value[6:12],  color=\"b\")\n",
    "plt.errorbar(x[2:12],y97_value[2:12], yerr=y97_error[2:12], fmt=\"o\", color=\"r\", markersize=8, capsize=5)\n",
    "plt.errorbar(x[6:12],y98_value[6:12], yerr=y98_error[6:12], fmt=\"o\", color=\"b\", markersize=8, capsize=5)"
   ]
  },
  {
   "cell_type": "code",
   "execution_count": 426,
   "metadata": {},
   "outputs": [
    {
     "data": {
      "text/plain": [
       "<ErrorbarContainer object of 3 artists>"
      ]
     },
     "execution_count": 426,
     "metadata": {},
     "output_type": "execute_result"
    },
    {
     "data": {
      "image/png": "[encoded data removed]",
      "text/plain": [
       "<Figure size 432x432 with 1 Axes>"
      ]
     },
     "metadata": {
      "needs_background": "light"
     },
     "output_type": "display_data"
    }
   ],
   "source": [
    "myfig = plt.figure(figsize=(6,6))\n",
    "# plt.plot(x[2:12],y97_value[2:12],  color=\"r\")\n",
    "# plt.plot(x[6:12],y98_value[6:12],  color=\"b\")\n",
    "plt.errorbar(x[2:12],y97_value[2:12], yerr=y97_error[2:12], fmt=\"o\", color=\"r\", markersize=8, capsize=5)\n",
    "plt.errorbar(x[6:12],y98_value[6:12], yerr=y98_error[6:12], fmt=\"o\", color=\"b\", markersize=8, capsize=5)\n"
   ]
  },
  {
   "cell_type": "code",
   "execution_count": 427,
   "metadata": {},
   "outputs": [
    {
     "data": {
      "text/plain": [
       "<ErrorbarContainer object of 3 artists>"
      ]
     },
     "execution_count": 427,
     "metadata": {},
     "output_type": "execute_result"
    },
    {
     "data": {
      "image/png": "[encoded data removed]",
      "text/plain": [
       "<Figure size 432x432 with 1 Axes>"
      ]
     },
     "metadata": {
      "needs_background": "light"
     },
     "output_type": "display_data"
    }
   ],
   "source": [
    "myfig = plt.figure(figsize=(6,6))\n",
    "plt.plot(log_dose_value[2:12], log_pl97_value[2:12],  color=\"r\")\n",
    "plt.plot(log_dose_value[6:12], log_pl98_value[6:12],  color=\"b\")\n",
    "plt.errorbar(log_dose_value[2:12], log_pl97_value[2:12], xerr=log_dose_error[2:12], yerr=log_pl97_error[2:12], fmt=\"o\", color=\"r\", markersize=8, capsize=5)\n",
    "plt.errorbar(log_dose_value[6:12], log_pl98_value[6:12], xerr=log_dose_error[6:12], yerr=log_pl98_error[6:12], fmt=\"o\", color=\"b\", markersize=8, capsize=5)"
   ]
  },
  {
   "cell_type": "code",
   "execution_count": 428,
   "metadata": {},
   "outputs": [
    {
     "data": {
      "text/plain": [
       "<ErrorbarContainer object of 3 artists>"
      ]
     },
     "execution_count": 428,
     "metadata": {},
     "output_type": "execute_result"
    },
    {
     "data": {
      "image/png": "[encoded data removed]",
      "text/plain": [
       "<Figure size 432x432 with 1 Axes>"
      ]
     },
     "metadata": {
      "needs_background": "light"
     },
     "output_type": "display_data"
    }
   ],
   "source": [
    "myfig = plt.figure(figsize=(6,6))\n",
    "plt.errorbar(log_dose_value[2:12], log_pl97_value[2:12], xerr=log_dose_error[2:12], yerr=log_pl97_error[2:12], fmt=\"o\", color=\"r\", markersize=8, capsize=5)\n",
    "plt.errorbar(log_dose_value[6:12], log_pl98_value[6:12], xerr=log_dose_error[6:12], yerr=log_pl98_error[6:12], fmt=\"o\", color=\"b\", markersize=8, capsize=5)"
   ]
  },
  {
   "cell_type": "code",
   "execution_count": null,
   "metadata": {},
   "outputs": [],
   "source": []
  }
 ],
 "metadata": {
  "kernelspec": {
   "display_name": "base",
   "language": "python",
   "name": "python3"
  },
  "language_info": {
   "codemirror_mode": {
    "name": "ipython",
    "version": 3
   },
   "file_extension": ".py",
   "mimetype": "text/x-python",
   "name": "python",
   "nbconvert_exporter": "python",
   "pygments_lexer": "ipython3",
   "version": "3.9.7"
  },
  "orig_nbformat": 4
 },
 "nbformat": 4,
 "nbformat_minor": 2
}
