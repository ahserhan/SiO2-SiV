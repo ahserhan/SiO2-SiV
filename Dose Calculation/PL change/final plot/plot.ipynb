{
 "cells": [
  {
   "cell_type": "code",
   "execution_count": 1,
   "metadata": {},
   "outputs": [],
   "source": [
    "import numpy as np\n",
    "import math\n",
    "import scipy.constants as const\n",
    "import uncertainties as unc\n",
    "import uncertainties.unumpy as unp\n",
    "import matplotlib.pyplot as plt\n",
    "import pandas as pd\n",
    "%matplotlib inline"
   ]
  },
  {
   "attachments": {},
   "cell_type": "markdown",
   "metadata": {},
   "source": [
    "# import FIB data and calculate dose"
   ]
  },
  {
   "cell_type": "code",
   "execution_count": 2,
   "metadata": {},
   "outputs": [
    {
     "data": {
      "text/html": [
       "<div>\n",
       "<style scoped>\n",
       "    .dataframe tbody tr th:only-of-type {\n",
       "        vertical-align: middle;\n",
       "    }\n",
       "\n",
       "    .dataframe tbody tr th {\n",
       "        vertical-align: top;\n",
       "    }\n",
       "\n",
       "    .dataframe thead th {\n",
       "        text-align: right;\n",
       "    }\n",
       "</style>\n",
       "<table border=\"1\" class=\"dataframe\">\n",
       "  <thead>\n",
       "    <tr style=\"text-align: right;\">\n",
       "      <th></th>\n",
       "      <th>E</th>\n",
       "      <th>C</th>\n",
       "      <th>CE</th>\n",
       "      <th>Pass</th>\n",
       "      <th>D</th>\n",
       "      <th>DE</th>\n",
       "      <th>DT</th>\n",
       "    </tr>\n",
       "  </thead>\n",
       "  <tbody>\n",
       "    <tr>\n",
       "      <th>0</th>\n",
       "      <td>1</td>\n",
       "      <td>0.0013</td>\n",
       "      <td>0.000013</td>\n",
       "      <td>1</td>\n",
       "      <td>5.0</td>\n",
       "      <td>0.5</td>\n",
       "      <td>2.500000e-08</td>\n",
       "    </tr>\n",
       "    <tr>\n",
       "      <th>1</th>\n",
       "      <td>2</td>\n",
       "      <td>0.0013</td>\n",
       "      <td>0.000013</td>\n",
       "      <td>1</td>\n",
       "      <td>5.0</td>\n",
       "      <td>0.5</td>\n",
       "      <td>5.000000e-08</td>\n",
       "    </tr>\n",
       "    <tr>\n",
       "      <th>2</th>\n",
       "      <td>3</td>\n",
       "      <td>0.0013</td>\n",
       "      <td>0.000013</td>\n",
       "      <td>1</td>\n",
       "      <td>5.0</td>\n",
       "      <td>0.5</td>\n",
       "      <td>1.000000e-07</td>\n",
       "    </tr>\n",
       "    <tr>\n",
       "      <th>3</th>\n",
       "      <td>4</td>\n",
       "      <td>0.0013</td>\n",
       "      <td>0.000013</td>\n",
       "      <td>1</td>\n",
       "      <td>5.0</td>\n",
       "      <td>0.5</td>\n",
       "      <td>2.500000e-07</td>\n",
       "    </tr>\n",
       "    <tr>\n",
       "      <th>4</th>\n",
       "      <td>5</td>\n",
       "      <td>0.0013</td>\n",
       "      <td>0.000013</td>\n",
       "      <td>1</td>\n",
       "      <td>5.0</td>\n",
       "      <td>0.5</td>\n",
       "      <td>5.000000e-07</td>\n",
       "    </tr>\n",
       "    <tr>\n",
       "      <th>5</th>\n",
       "      <td>6</td>\n",
       "      <td>0.0013</td>\n",
       "      <td>0.000013</td>\n",
       "      <td>1</td>\n",
       "      <td>5.0</td>\n",
       "      <td>0.5</td>\n",
       "      <td>1.000000e-06</td>\n",
       "    </tr>\n",
       "    <tr>\n",
       "      <th>6</th>\n",
       "      <td>7</td>\n",
       "      <td>0.0077</td>\n",
       "      <td>0.000077</td>\n",
       "      <td>1</td>\n",
       "      <td>8.0</td>\n",
       "      <td>0.5</td>\n",
       "      <td>1.000000e-06</td>\n",
       "    </tr>\n",
       "    <tr>\n",
       "      <th>7</th>\n",
       "      <td>8</td>\n",
       "      <td>0.0240</td>\n",
       "      <td>0.000240</td>\n",
       "      <td>1</td>\n",
       "      <td>10.5</td>\n",
       "      <td>0.5</td>\n",
       "      <td>1.000000e-06</td>\n",
       "    </tr>\n",
       "    <tr>\n",
       "      <th>8</th>\n",
       "      <td>9</td>\n",
       "      <td>0.0800</td>\n",
       "      <td>0.000800</td>\n",
       "      <td>1</td>\n",
       "      <td>14.0</td>\n",
       "      <td>2.0</td>\n",
       "      <td>1.000000e-06</td>\n",
       "    </tr>\n",
       "    <tr>\n",
       "      <th>9</th>\n",
       "      <td>10</td>\n",
       "      <td>0.4300</td>\n",
       "      <td>0.004300</td>\n",
       "      <td>1</td>\n",
       "      <td>30.0</td>\n",
       "      <td>2.0</td>\n",
       "      <td>1.000000e-06</td>\n",
       "    </tr>\n",
       "    <tr>\n",
       "      <th>10</th>\n",
       "      <td>11</td>\n",
       "      <td>0.7900</td>\n",
       "      <td>0.007900</td>\n",
       "      <td>2</td>\n",
       "      <td>38.0</td>\n",
       "      <td>2.0</td>\n",
       "      <td>1.000000e-06</td>\n",
       "    </tr>\n",
       "    <tr>\n",
       "      <th>11</th>\n",
       "      <td>12</td>\n",
       "      <td>0.7900</td>\n",
       "      <td>0.007900</td>\n",
       "      <td>10</td>\n",
       "      <td>38.0</td>\n",
       "      <td>2.0</td>\n",
       "      <td>1.000000e-06</td>\n",
       "    </tr>\n",
       "  </tbody>\n",
       "</table>\n",
       "</div>"
      ],
      "text/plain": [
       "     E       C        CE  Pass     D   DE            DT\n",
       "0    1  0.0013  0.000013     1   5.0  0.5  2.500000e-08\n",
       "1    2  0.0013  0.000013     1   5.0  0.5  5.000000e-08\n",
       "2    3  0.0013  0.000013     1   5.0  0.5  1.000000e-07\n",
       "3    4  0.0013  0.000013     1   5.0  0.5  2.500000e-07\n",
       "4    5  0.0013  0.000013     1   5.0  0.5  5.000000e-07\n",
       "5    6  0.0013  0.000013     1   5.0  0.5  1.000000e-06\n",
       "6    7  0.0077  0.000077     1   8.0  0.5  1.000000e-06\n",
       "7    8  0.0240  0.000240     1  10.5  0.5  1.000000e-06\n",
       "8    9  0.0800  0.000800     1  14.0  2.0  1.000000e-06\n",
       "9   10  0.4300  0.004300     1  30.0  2.0  1.000000e-06\n",
       "10  11  0.7900  0.007900     2  38.0  2.0  1.000000e-06\n",
       "11  12  0.7900  0.007900    10  38.0  2.0  1.000000e-06"
      ]
     },
     "execution_count": 2,
     "metadata": {},
     "output_type": "execute_result"
    }
   ],
   "source": [
    "data = pd.read_csv('Dose.csv')\n",
    "data"
   ]
  },
  {
   "cell_type": "code",
   "execution_count": 3,
   "metadata": {},
   "outputs": [],
   "source": [
    "#dwell has unit s\n",
    "dwell = data['DT']\n",
    "\n",
    "#current has unit nA\n",
    "current = []\n",
    "# current = unc.ufloat(data['Current'],data['CE'])   \n",
    "for i in range(12):\n",
    "    current.append(unc.ufloat(data['C'][i],  data['CE'][i])*1e-9)\n",
    "overlap = 3\n",
    "multip =  data['Pass']\n",
    "\n",
    "#diameter has unit m\n",
    "diameter = []\n",
    "for i in range(12):\n",
    "    diameter.append(unc.ufloat(data['D'][i],  data['DE'][i])*1e-9)\n",
    "radius = []\n",
    "for i in range(12):\n",
    "    radius.append(diameter[i]/2)\n",
    "ctoe = 6.242e18\n",
    "\n",
    "#dose in  cm^-2\n",
    "dose = []\n",
    "for i in range(12):\n",
    "    dose.append(current[i]*ctoe*dwell[i]*overlap*multip[i]/(math.pi*radius[i]**2)/(100)**2)\n"
   ]
  },
  {
   "cell_type": "code",
   "execution_count": 4,
   "metadata": {},
   "outputs": [],
   "source": [
    "dose_value = unp.nominal_values(dose)\n",
    "dose_error = unp.std_devs(dose)\n",
    "count = [1.2e4, 1.4e4, 1.6e4, 2.5e4, 2e4, 1.7e4]"
   ]
  },
  {
   "attachments": {},
   "cell_type": "markdown",
   "metadata": {},
   "source": [
    "# import PL data and plot"
   ]
  },
  {
   "cell_type": "code",
   "execution_count": 5,
   "metadata": {},
   "outputs": [],
   "source": [
    "el297 = pd.read_csv('el297.csv')\n",
    "el298 = pd.read_csv('el298.csv')\n",
    "calib = unc.ufloat(1.31e6, 8.97e4)\n",
    "# calib = 1.31e6"
   ]
  },
  {
   "cell_type": "code",
   "execution_count": 6,
   "metadata": {},
   "outputs": [],
   "source": [
    "pl97 = []\n",
    "for i in range(12):\n",
    "    pl97.append(unc.ufloat(el297['PL'][i], el297['PLE'][i]))\n",
    "pl97_value = unp.nominal_values(pl97)\n",
    "pl97_error = unp.std_devs(pl97)\n",
    "log_pl97 = []\n",
    "# for i in range(2,12):\n",
    "#     log_pl97.append(unp.log10(pl97[i]))\n",
    "log_pl97 = unp.log10(pl97)\n",
    "log_pl97_value = unp.nominal_values(log_pl97)\n",
    "log_pl97_error = unp.std_devs(log_pl97)"
   ]
  },
  {
   "cell_type": "code",
   "execution_count": 7,
   "metadata": {},
   "outputs": [],
   "source": [
    "pl98 = []\n",
    "for i in range(12):\n",
    "    pl98.append(unc.ufloat(el298['PL'][i], el298['PLE'][i]))\n",
    "pl98_value = unp.nominal_values(pl98)\n",
    "pl98_error = unp.std_devs(pl98)\n",
    "log_pl98 = []\n",
    "# for i in range(6,12):\n",
    "#     log_pl98.append(unp.log10(pl98[i]))\n",
    "log_pl98 = unp.log10(pl98)\n",
    "log_pl98_value = unp.nominal_values(log_pl98)\n",
    "log_pl98_error = unp.std_devs(log_pl98)"
   ]
  },
  {
   "cell_type": "code",
   "execution_count": 8,
   "metadata": {},
   "outputs": [],
   "source": [
    "log_dose = unp.log10(dose)\n",
    "log_dose_value = unp.nominal_values(log_dose)\n",
    "log_dose_error = unp.std_devs(log_dose)"
   ]
  },
  {
   "cell_type": "code",
   "execution_count": 9,
   "metadata": {},
   "outputs": [],
   "source": [
    "x = [1,2,3,4,5,6,7,8,9,10,11,12]"
   ]
  },
  {
   "cell_type": "code",
   "execution_count": 10,
   "metadata": {},
   "outputs": [
    {
     "data": {
      "image/png": "[encoded data removed]",
      "text/plain": [
       "<Figure size 850.394x368.504 with 1 Axes>"
      ]
     },
     "metadata": {
      "needs_background": "light"
     },
     "output_type": "display_data"
    }
   ],
   "source": [
    "cm = 1/2.54 \n",
    "plt.rcParams.update({'font.size': 20})\n",
    "fig = plt.figure(figsize=(30*cm, 13*cm))\n",
    "plt.grid()\n",
    "plt.xlabel(r'Irradiation Square')\n",
    "plt.ylabel(r'Ion Dose (cm$^{-2}$)')\n",
    "plt.errorbar(x ,dose_value, yerr=dose_error, fmt=\"o\", color=\"k\", markersize=10, capsize=10)\n",
    "plt.xticks([2,4,6,8,10,12], ('$S_2$','$S_4$','$S_6$','$S_8$','$S_{10}$','$S_{12}$'))\n",
    "# plt.yticks(('$P_2$','$P_4$','$P_6$','$P_8$','$P_10$','$P_{12}$'))\n",
    "# plt.yticks([1e11,1e12, 1e13,1e14,1e15,1e16], ('$10^{11}$','$10^{12}$','$10^{13}$','$10^{14}$','$10^{15}$','$10^{16}$'))\n",
    "\n",
    "plt.ylim(1e11, 1e17)\n",
    "plt.yscale(\"log\")\n",
    "fig.savefig('dose_log.eps', format= 'eps',transparent=True, dpi = 300)"
   ]
  },
  {
   "cell_type": "code",
   "execution_count": 11,
   "metadata": {},
   "outputs": [
    {
     "name": "stderr",
     "output_type": "stream",
     "text": [
      "The PostScript backend does not support transparency; partially transparent artists will be rendered opaque.\n",
      "The PostScript backend does not support transparency; partially transparent artists will be rendered opaque.\n"
     ]
    },
    {
     "data": {
      "image/png": "[encoded data removed]",
      "text/plain": [
       "<Figure size 566.929x425.197 with 1 Axes>"
      ]
     },
     "metadata": {
      "needs_background": "light"
     },
     "output_type": "display_data"
    }
   ],
   "source": [
    "plt.rcParams.update({'font.size': 23})\n",
    "cm = 1/2.54 \n",
    "fig = plt.figure(figsize=(20*cm, 15*cm))\n",
    "# plt.grid()\n",
    "# plt.axhline(y=0, color='k', linestyle='dashed')\n",
    "error_kw=dict(lw=10, capsize=0, capthick=10)\n",
    "plt.errorbar(dose_value[2:12], pl97_value[2:12]/10, xerr=dose_error[2:12], yerr=pl97_error[2:12]/10, fmt=\"none\", color=\"C2\", markersize=10, capsize=0, elinewidth=4,label='SiO$_2$')\n",
    "plt.errorbar(dose_value[6:12], pl98_value[6:12]/10, xerr=dose_error[6:12], yerr=pl98_error[6:12]/10, fmt=\"none\", color=\"C1\", markersize=10, capsize=0, elinewidth=4,label='SiN$_x$')\n",
    "\n",
    "plt.xlabel('Gallium Ion Fluence (cm$^{-2})$')\n",
    "plt.ylabel('PL (counts/s)')\n",
    "plt.xscale('log')\n",
    "plt.yscale('log')\n",
    "# plt.gca().invert_xaxis()\n",
    "plt.legend(loc='lower right')\n",
    "plt.tight_layout()\n",
    "fig.savefig('PL_log_x_ALL.eps', format= 'eps',transparent=True)\n",
    "fig.savefig('PL_log_x_ALL.png', format= 'png',transparent=True)"
   ]
  },
  {
   "cell_type": "code",
   "execution_count": null,
   "metadata": {},
   "outputs": [],
   "source": []
  }
 ],
 "metadata": {
  "kernelspec": {
   "display_name": "base",
   "language": "python",
   "name": "python3"
  },
  "language_info": {
   "codemirror_mode": {
    "name": "ipython",
    "version": 3
   },
   "file_extension": ".py",
   "mimetype": "text/x-python",
   "name": "python",
   "nbconvert_exporter": "python",
   "pygments_lexer": "ipython3",
   "version": "3.9.7"
  },
  "orig_nbformat": 4
 },
 "nbformat": 4,
 "nbformat_minor": 2
}
