{
 "cells": [
  {
   "attachments": {},
   "cell_type": "markdown",
   "metadata": {},
   "source": [
    "# spe2py\n",
    "\n",
    "spe2py is a module that imports a Princeton Instruments LightField (SPE 3.x) file into a python environment.\n",
    "\n",
    "### Basic Usage\n",
    "##### Modules\n",
    "The `spe2py` module is designed for quick data loading, viewing, and exploration. It is most effective for quick access\n",
    "to .spe files via a graphical file dialog, and incorporates tooling functionality to view images and plots with as\n",
    "little typing as possible.\n",
    "\n",
    "The `spe_loader` module is responsible for the pure .spe file loading functionality, and can (and should) be imported\n",
    "separately when only lightweight, programmatic loading is necessary.\n",
    "\n",
    "##### Loading and accessing data\n",
    "Use the `load()` function to load one or more SPE files at a time into a set of tools:\n",
    "```python\n",
    ">>> import spe2py as spe\n",
    ">>> spe_tools = spe.load()\n",
    "```\n",
    "A file selection window will open to allow browsing for source files. The result is an individual SpeTool object, or, in the case where multiple files are loaded at once, a list of SpeTool objects.\n",
    "\n",
    "Alternatively programmatic loading should be done with with the `spe_loader` module:\n",
    "```python\n",
    ">>> import spe_loader as sl\n",
    ">>> spe_files = sl.load_from_files(['path/to/file1', 'path/to/file2'])\n",
    "```\n",
    "The result is an individual SpeFile object, or, in the case where multiple files are loaded at once, a list of SpeFile objects.\n",
    "\n",
    "Raw data from a file is stored in NumPy arrays and can be accessed directly by\n",
    "```python\n",
    ">>> frame_data = spe_tool.file.data[frame][regionOfInterest]\n",
    ">>> frame_data = spe_tools[n].file.data[frame][regionOfInterest] # where multiple files are loaded\n",
    "```\n",
    "or when using the pure loader module:\n",
    "```python\n",
    ">>> frame_data = spe_file.data[frame][regionOfInterest]\n",
    ">>> frame_data = spe_files[n].data[frame][regionOfInterest] # where multiple files are loaded\n",
    "```\n",
    "\n",
    "##### Automatic imaging and plotting (spe2py tools only)\n",
    "To quickly view an individual frame, region-of-interest, or spectrum, use the `image()` or `specplot()` methods. For example,\n",
    "```python\n",
    ">>> spe_tool.image() # images the first frame and region of interest\n",
    ">>> spe_tool.image(f, r) # images frame 'f' and region of interest 'r'\n",
    ">>> spe_tool.specplot() # plots the loaded spectrum\n",
    "```\n",
    "\n",
    "##### Accessing metadata\n",
    "Upon loading, the metadata contained in the file's XML footer is automatically parsed and stored as an `untangle` object in the `footer` variable. Elements and attributes can be accessed by calling the different elements and subelements of footer, ending with the attribute as a string:\n",
    "```python\n",
    ">>> sensor_height = loaded_file.footer.SpeFormat.Calibrations.SensorInformation['height']\n",
    "```\n",
    "One can print the full element tree by calling the `xmltree()` method.\n",
    "\n",
    "### Dependencies\n",
    "- NumPy - data storage and file reading\n",
    "- [untangle](https://github.com/stchris/untangle) - XML parsing\n",
    "- tkinter - file selection dialog (spe2py tools only)\n",
    "- matplotlib - imaging and plotting (spe2py tools only)\n",
    "\n",
    "### Version\n",
    "2.0.0 - Separation of Tooling and Loading functionality"
   ]
  },
  {
   "cell_type": "code",
   "execution_count": 28,
   "metadata": {},
   "outputs": [],
   "source": [
    "import matplotlib.pyplot as plt\n",
    "import math\n",
    "import spe2py as spe\n",
    "import spe_loader as sl"
   ]
  },
  {
   "cell_type": "code",
   "execution_count": 29,
   "metadata": {},
   "outputs": [
    {
     "name": "stdout",
     "output_type": "stream",
     "text": [
      "Successfully loaded 1 file(s) in a SpeFile object\n"
     ]
    }
   ],
   "source": [
    "testFile = sl.load_from_files(['test.spe'])"
   ]
  },
  {
   "cell_type": "code",
   "execution_count": 30,
   "metadata": {},
   "outputs": [],
   "source": [
    "testData = testFile.data[0][:]"
   ]
  },
  {
   "cell_type": "code",
   "execution_count": 44,
   "metadata": {},
   "outputs": [
    {
     "data": {
      "text/plain": [
       "[array([[788, 763, 764, ..., 625, 634, 633]], dtype=uint16)]"
      ]
     },
     "execution_count": 44,
     "metadata": {},
     "output_type": "execute_result"
    }
   ],
   "source": [
    "testData"
   ]
  },
  {
   "cell_type": "code",
   "execution_count": 43,
   "metadata": {},
   "outputs": [
    {
     "data": {
      "text/plain": [
       "array([[788, 763, 764, ..., 625, 634, 633]], dtype=uint16)"
      ]
     },
     "execution_count": 43,
     "metadata": {},
     "output_type": "execute_result"
    }
   ],
   "source": [
    "testData[0]"
   ]
  },
  {
   "cell_type": "code",
   "execution_count": 45,
   "metadata": {},
   "outputs": [
    {
     "data": {
      "text/plain": [
       "array([788, 763, 764, ..., 625, 634, 633], dtype=uint16)"
      ]
     },
     "execution_count": 45,
     "metadata": {},
     "output_type": "execute_result"
    }
   ],
   "source": [
    "testData[0][0]"
   ]
  },
  {
   "cell_type": "code",
   "execution_count": 46,
   "metadata": {},
   "outputs": [
    {
     "data": {
      "text/plain": [
       "788"
      ]
     },
     "execution_count": 46,
     "metadata": {},
     "output_type": "execute_result"
    }
   ],
   "source": [
    "testData[0][0][0]"
   ]
  },
  {
   "cell_type": "code",
   "execution_count": 48,
   "metadata": {},
   "outputs": [
    {
     "data": {
      "text/plain": [
       "[<matplotlib.lines.Line2D at 0x26388ef21c0>]"
      ]
     },
     "execution_count": 48,
     "metadata": {},
     "output_type": "execute_result"
    },
    {
     "data": {
      "image/png": "[encoded data removed]",
      "text/plain": [
       "<Figure size 432x288 with 1 Axes>"
      ]
     },
     "metadata": {
      "needs_background": "light"
     },
     "output_type": "display_data"
    }
   ],
   "source": [
    "plt.plot(testData[0][0])"
   ]
  },
  {
   "cell_type": "code",
   "execution_count": 63,
   "metadata": {},
   "outputs": [
    {
     "name": "stdout",
     "output_type": "stream",
     "text": [
      "Successfully loaded 1 file(s) in a SpeFile object\n",
      "Successfully loaded 1 file(s) in a SpeFile object\n"
     ]
    }
   ],
   "source": [
    "aFile = sl.load_from_files(['after.spe'])\n",
    "bFile = sl.load_from_files(['before.spe'])\n",
    "aData = aFile.data[0][0][0]\n",
    "bData = bFile.data[0][0][0]"
   ]
  },
  {
   "cell_type": "code",
   "execution_count": 64,
   "metadata": {},
   "outputs": [
    {
     "data": {
      "text/plain": [
       "[<matplotlib.lines.Line2D at 0x263896bdee0>]"
      ]
     },
     "execution_count": 64,
     "metadata": {},
     "output_type": "execute_result"
    },
    {
     "data": {
      "image/png": "[encoded data removed]",
      "text/plain": [
       "<Figure size 432x288 with 1 Axes>"
      ]
     },
     "metadata": {
      "needs_background": "light"
     },
     "output_type": "display_data"
    }
   ],
   "source": [
    "plt.plot(aData)"
   ]
  },
  {
   "cell_type": "code",
   "execution_count": 66,
   "metadata": {},
   "outputs": [
    {
     "data": {
      "text/plain": [
       "[<matplotlib.lines.Line2D at 0x26384b88430>]"
      ]
     },
     "execution_count": 66,
     "metadata": {},
     "output_type": "execute_result"
    },
    {
     "data": {
      "image/png": "[encoded data removed]",
      "text/plain": [
       "<Figure size 432x288 with 1 Axes>"
      ]
     },
     "metadata": {
      "needs_background": "light"
     },
     "output_type": "display_data"
    }
   ],
   "source": [
    "plt.plot(bData)"
   ]
  },
  {
   "cell_type": "code",
   "execution_count": 78,
   "metadata": {},
   "outputs": [
    {
     "data": {
      "text/plain": [
       "(1, 4128)"
      ]
     },
     "execution_count": 78,
     "metadata": {},
     "output_type": "execute_result"
    }
   ],
   "source": [
    "aFile.data[0][0].shape"
   ]
  },
  {
   "cell_type": "code",
   "execution_count": null,
   "metadata": {},
   "outputs": [],
   "source": []
  }
 ],
 "metadata": {
  "kernelspec": {
   "display_name": "base",
   "language": "python",
   "name": "python3"
  },
  "language_info": {
   "codemirror_mode": {
    "name": "ipython",
    "version": 3
   },
   "file_extension": ".py",
   "mimetype": "text/x-python",
   "name": "python",
   "nbconvert_exporter": "python",
   "pygments_lexer": "ipython3",
   "version": "3.9.7"
  },
  "orig_nbformat": 4
 },
 "nbformat": 4,
 "nbformat_minor": 2
}
