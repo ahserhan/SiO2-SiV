{
 "cells": [
  {
   "cell_type": "code",
   "execution_count": 22,
   "metadata": {},
   "outputs": [
    {
     "data": {
      "image/png": "[encoded data removed]",
      "text/plain": [
       "<Figure size 864x648 with 2 Axes>"
      ]
     },
     "metadata": {
      "needs_background": "light"
     },
     "output_type": "display_data"
    }
   ],
   "source": [
    "import pandas as pd\n",
    "import matplotlib.pyplot as plt\n",
    "import numpy as np\n",
    "from matplotlib.colors import LogNorm\n",
    "from lmfit.models import QuadraticModel, LorentzianModel, LinearModel\n",
    "from lmfit import Model, Minimizer, Parameters, report_fit\n",
    "\n",
    "import math\n",
    "\n",
    "def findarg(data, value):\n",
    "    arg = 0\n",
    "    for wl in data:\n",
    "        if wl<value:\n",
    "            arg = arg + 1\n",
    "        else:\n",
    "            return arg\n",
    "        \n",
    "    return arg\n",
    "\n",
    "\n",
    "data = pd.read_pickle('asher_20230603_hyperspec_EL2_98.pkl')\n",
    "\n",
    "im = data['im']\n",
    "wavel = data['wavelength']\n",
    "map = np.sum(im, axis = 2)\n",
    "# pixel numbers x and y\n",
    "px = len(im)\n",
    "py = len(im[0])\n",
    "intensity = np.zeros((px,py))\n",
    "#total intensity plot\n",
    "plt.figure(figsize=(12,9))\n",
    "plt.grid()\n",
    "plt.imshow(map, cmap='viridis')\n",
    "plt.colorbar()\n",
    "plt.xlabel('x axis')\n",
    "plt.ylabel('y axis')\n",
    "plt.show()"
   ]
  },
  {
   "attachments": {},
   "cell_type": "markdown",
   "metadata": {},
   "source": [
    "# Fit R2"
   ]
  },
  {
   "cell_type": "code",
   "execution_count": 23,
   "metadata": {},
   "outputs": [],
   "source": [
    "# regionx,regiony = 0,39\n",
    "regionx,regiony = 39,0\n",
    "ramanData = pd.read_csv('secondRaman - EL2-98.csv')\n",
    "ramanI = np.array(ramanData['I'])\n",
    "# ramanW = ramanData['W']\n",
    "# ramanIndex = ramanData['Index']"
   ]
  },
  {
   "cell_type": "code",
   "execution_count": 24,
   "metadata": {},
   "outputs": [],
   "source": [
    "def fcn2min(params, x, data):\n",
    "    \"\"\"Model a decaying sine wave and subtract data.\"\"\"\n",
    "    scale = params['scale']\n",
    "    a = params['a']\n",
    "    b = params['b']\n",
    "    c = params['c']\n",
    "    model = a*x**2+b*x+c\n",
    "    return model + scale * ramanI[300:500] - data"
   ]
  },
  {
   "cell_type": "code",
   "execution_count": 25,
   "metadata": {},
   "outputs": [
    {
     "name": "stderr",
     "output_type": "stream",
     "text": [
      "The PostScript backend does not support transparency; partially transparent artists will be rendered opaque.\n",
      "The PostScript backend does not support transparency; partially transparent artists will be rendered opaque.\n"
     ]
    },
    {
     "name": "stdout",
     "output_type": "stream",
     "text": [
      "[[Fit Statistics]]\n",
      "    # fitting method   = leastsq\n",
      "    # function evals   = 21\n",
      "    # data points      = 200\n",
      "    # variables        = 4\n",
      "    chi-square         = 356365.780\n",
      "    reduced chi-square = 1818.19276\n",
      "    Akaike info crit   = 1505.07912\n",
      "    Bayesian info crit = 1518.27239\n",
      "[[Variables]]\n",
      "    scale:  0.38876572 +/- 0.02022272 (5.20%) (init = 1)\n",
      "    a:      0.32158327 +/- 0.22026848 (68.50%) (init = 0)\n",
      "    b:     -332.079996 +/- 270.310683 (81.40%) (init = 0)\n",
      "    c:      86461.4354 +/- 82916.4080 (95.90%) (init = 0)\n",
      "[[Correlations]] (unreported correlations are < 0.100)\n",
      "    C(a, b)     = -1.000\n",
      "    C(b, c)     = -1.000\n",
      "    C(a, c)     = 1.000\n",
      "    C(scale, a) = 0.799\n",
      "    C(scale, b) = -0.798\n",
      "    C(scale, c) = 0.797\n"
     ]
    },
    {
     "data": {
      "image/png": "[encoded data removed]",
      "text/plain": [
       "<Figure size 113.386x141.732 with 1 Axes>"
      ]
     },
     "metadata": {
      "needs_background": "light"
     },
     "output_type": "display_data"
    }
   ],
   "source": [
    "Index = list(range(300,500))\n",
    "currentPL = data['im'][regionx][regiony]\n",
    "# create a set of Parameters\n",
    "params = Parameters()\n",
    "params.add('scale', value=1, min=0)\n",
    "params.add('a', value=0)\n",
    "params.add('b', value=0.0)\n",
    "params.add('c', value=0)\n",
    "\n",
    "# do fit, here with the default leastsq algorithm\n",
    "minner = Minimizer(fcn2min, params, fcn_args=(wavel[Index], currentPL[Index]))\n",
    "result = minner.minimize()\n",
    "\n",
    "# calculate final result\n",
    "# final = data + result.residual\n",
    "\n",
    "\n",
    "\n",
    "report_fit(result)\n",
    "\n",
    "plt.rcParams.update({'font.size': 5.67})\n",
    "cm = 1/2.54\n",
    "fig = plt.figure(figsize=(4*cm, 5*cm))\n",
    "\n",
    "plt.plot(wavel[Index]-1.8, currentPL[Index], '+', markersize = 3, label = 'Data')\n",
    "plt.plot(wavel[Index]-1.8, currentPL[Index] + result.residual, label = 'Fit')\n",
    "\n",
    "x = wavel[Index]-1.8\n",
    "plt.plot(x, ramanI[Index]*result.params['scale'], label = 'Raman') \n",
    "plt.plot(x, result.params['a']*x**2+result.params['b']*x+result.params['c'], color = 'C5', label = 'Bkg')\n",
    "\n",
    "plt.ylabel('Intensity (photon count)')\n",
    "plt.xlabel('Wavelength (nm)')\n",
    "\n",
    "plt.legend()\n",
    "# plt.show()\n",
    "plt.tight_layout()\n",
    "\n",
    "fig.savefig('second raman fit - 1.eps', format= 'eps',transparent=True)\n",
    "\n"
   ]
  },
  {
   "cell_type": "code",
   "execution_count": null,
   "metadata": {},
   "outputs": [],
   "source": []
  }
 ],
 "metadata": {
  "kernelspec": {
   "display_name": "base",
   "language": "python",
   "name": "python3"
  },
  "language_info": {
   "codemirror_mode": {
    "name": "ipython",
    "version": 3
   },
   "file_extension": ".py",
   "mimetype": "text/x-python",
   "name": "python",
   "nbconvert_exporter": "python",
   "pygments_lexer": "ipython3",
   "version": "3.9.7"
  },
  "orig_nbformat": 4
 },
 "nbformat": 4,
 "nbformat_minor": 2
}
